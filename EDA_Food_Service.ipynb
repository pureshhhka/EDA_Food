{
 "cells": [
  {
   "cell_type": "markdown",
   "id": "665e114d",
   "metadata": {},
   "source": [
    "# DZ 1 Немного EDA для маркетинговых данных"
   ]
  },
  {
   "cell_type": "markdown",
   "id": "95d74125",
   "metadata": {},
   "source": [
    "Вам предложены данные iFood — приложения для доставки еды в Бразилии, представленного более чем в тысяче городов.\n",
    "Поддержание высокой вовлеченности клиентов является важной задачей для компании. Для того, чтобы создавать новые предложения и проводить качественные рекламные кампании, необходимо понимать особенности и потребности целевой аудитории. Для этого были собраны данные о клиентах, использующих приложение. Вам предстоит выявить особенности людей, пользующихся данным приложением и найти интересные закономерности.\n",
    "\n",
    "Почитать про компанию можно, например, на википедии:) https://en.wikipedia.org/wiki/IFood"
   ]
  },
  {
   "cell_type": "markdown",
   "id": "db6e583b",
   "metadata": {},
   "source": [
    "Описание данных:\n",
    "    \n",
    "* AcceptedCmp1 - 1 if customer accepted the offer in the 1st campaign, 0 otherwise\n",
    "* AcceptedCmp2 - 1 if customer accepted the offer in the 2nd campaign, 0 otherwise\n",
    "* AcceptedCmp3 - 1 if customer accepted the offer in the 3rd campaign, 0 otherwise\n",
    "* AcceptedCmp4 - 1 if customer accepted the offer in the 4th campaign, 0 otherwise\n",
    "* AcceptedCmp5 - 1 if customer accepted the offer in the 5th campaign, 0 otherwise\n",
    "* Response (target) - 1 if customer accepted the offer in the last campaign, 0 otherwise\n",
    "* Complain - 1 if customer complained in the last 2 years\n",
    "* DtCustomer - date of customer’s enrolment with the company\n",
    "* Education - customer’s level of education\n",
    "* Marital - customer’s marital status\n",
    "* Kidhome - number of small children in customer’s household\n",
    "* Teenhome - number of teenagers in customer’s household\n",
    "* Income - customer’s yearly household income\n",
    "* MntFishProducts - amount spent on fish products in the last 2 years\n",
    "* MntMeatProducts - amount spent on meat products in the last 2 years\n",
    "* MntFruits - amount spent on fruits products in the last 2 years\n",
    "* MntSweetProducts - amount spent on sweet products in the last 2 years\n",
    "* MntWines - amount spent on wine products in the last 2 years\n",
    "* MntGoldProds - amount spent on gold products in the last 2 years\n",
    "* NumDealsPurchases - number of purchases made with discount\n",
    "* NumCatalogPurchases - number of purchases made using catalogue\n",
    "* NumStorePurchases - number of purchases made directly in stores\n",
    "* NumWebPurchases - number of purchases made through company’s web site\n",
    "* NumWebVisitsMonth - number of visits to company’s web site in the last month\n",
    "* Recency - number of days since the last purchase"
   ]
  },
  {
   "cell_type": "markdown",
   "id": "e269d555",
   "metadata": {},
   "source": [
    "## Немного важной информации:"
   ]
  },
  {
   "cell_type": "markdown",
   "id": "d07cc02d",
   "metadata": {},
   "source": [
    "1. Обязательно гуглите! Использование дополнительных методов не карается, но приветствуется (если вы сможете объяснить принцип их работы) Однако, если вы нашли что-то полезное и хотите скопировать себе - сделав это, добавьте в начале ячейки ссылку на источник. В противном случае это будет считаться плагиатом.\n",
    "\n",
    "2. Плагиат не допускается и строго наказывается. Единственное возможное исключение - код, заимствованный из интернета, с ссылкой на источник."
   ]
  },
  {
   "cell_type": "markdown",
   "id": "4cd87d25",
   "metadata": {},
   "source": [
    "## Задание 1 (1 балл): предобработка данных"
   ]
  },
  {
   "cell_type": "markdown",
   "id": "f0856f15",
   "metadata": {},
   "source": [
    "Откройте предложенные данные."
   ]
  },
  {
   "cell_type": "code",
   "execution_count": 158,
   "id": "b0366881",
   "metadata": {},
   "outputs": [
    {
     "name": "stdout",
     "output_type": "stream",
     "text": [
      "<class 'pandas.core.frame.DataFrame'>\n",
      "RangeIndex: 2240 entries, 0 to 2239\n",
      "Data columns (total 28 columns):\n",
      " #   Column               Non-Null Count  Dtype \n",
      "---  ------               --------------  ----- \n",
      " 0   ID                   2240 non-null   int64 \n",
      " 1   Year_Birth           2240 non-null   int64 \n",
      " 2   Education            2240 non-null   object\n",
      " 3   Marital_Status       2240 non-null   object\n",
      " 4   Income               2216 non-null   object\n",
      " 5   Kidhome              2240 non-null   int64 \n",
      " 6   Teenhome             2240 non-null   int64 \n",
      " 7   Dt_Customer          2240 non-null   object\n",
      " 8   Recency              2240 non-null   int64 \n",
      " 9   MntWines             2240 non-null   int64 \n",
      " 10  MntFruits            2240 non-null   int64 \n",
      " 11  MntMeatProducts      2240 non-null   int64 \n",
      " 12  MntFishProducts      2240 non-null   int64 \n",
      " 13  MntSweetProducts     2240 non-null   int64 \n",
      " 14  MntGoldProds         2240 non-null   int64 \n",
      " 15  NumDealsPurchases    2240 non-null   int64 \n",
      " 16  NumWebPurchases      2240 non-null   int64 \n",
      " 17  NumCatalogPurchases  2240 non-null   int64 \n",
      " 18  NumStorePurchases    2240 non-null   int64 \n",
      " 19  NumWebVisitsMonth    2240 non-null   int64 \n",
      " 20  AcceptedCmp3         2240 non-null   int64 \n",
      " 21  AcceptedCmp4         2240 non-null   int64 \n",
      " 22  AcceptedCmp5         2240 non-null   int64 \n",
      " 23  AcceptedCmp1         2240 non-null   int64 \n",
      " 24  AcceptedCmp2         2240 non-null   int64 \n",
      " 25  Response             2240 non-null   int64 \n",
      " 26  Complain             2240 non-null   int64 \n",
      " 27  Country              2240 non-null   object\n",
      "dtypes: int64(23), object(5)\n",
      "memory usage: 490.1+ KB\n"
     ]
    }
   ],
   "source": [
    "import pandas as pd\n",
    "df = pd.read_csv(\"marketing.csv\")\n",
    "df.info()"
   ]
  },
  {
   "cell_type": "markdown",
   "id": "8743651c",
   "metadata": {},
   "source": [
    "Изучите ваши данные. Какие типы данных здесь представлены? Все ли данные считались в корректном и удобном для работы формате? Если нет, то с какими данными есть проблемы?"
   ]
  },
  {
   "cell_type": "code",
   "execution_count": null,
   "id": "29ff54e1",
   "metadata": {},
   "outputs": [],
   "source": [
    "# Есть два типа данных: int и object. \n",
    "# Проще будет работать с int, нежели чем с object"
   ]
  },
  {
   "cell_type": "markdown",
   "id": "4f42cbb7",
   "metadata": {},
   "source": [
    "Теперь необходимо привести некоторые данные в корректный вид. Преобразуйте признак income так, чтобы значения этого признака были обычными вещественными числами (float)"
   ]
  },
  {
   "cell_type": "markdown",
   "id": "bd251268",
   "metadata": {},
   "source": [
    "### Способ преобразования был взят тут: https://pandas.pydata.org/docs/reference/api/pandas.Series.str.replace.html"
   ]
  },
  {
   "cell_type": "code",
   "execution_count": 83,
   "id": "1bf60c74",
   "metadata": {},
   "outputs": [],
   "source": [
    "df['Income'] = df['Income'].replace({'\\$':''}, regex = True)\n",
    "df['Income'] = df['Income'].replace({'\\,':''}, regex = True)"
   ]
  },
  {
   "cell_type": "code",
   "execution_count": 84,
   "id": "cb5794c3",
   "metadata": {},
   "outputs": [
    {
     "data": {
      "text/html": [
       "<div>\n",
       "<style scoped>\n",
       "    .dataframe tbody tr th:only-of-type {\n",
       "        vertical-align: middle;\n",
       "    }\n",
       "\n",
       "    .dataframe tbody tr th {\n",
       "        vertical-align: top;\n",
       "    }\n",
       "\n",
       "    .dataframe thead th {\n",
       "        text-align: right;\n",
       "    }\n",
       "</style>\n",
       "<table border=\"1\" class=\"dataframe\">\n",
       "  <thead>\n",
       "    <tr style=\"text-align: right;\">\n",
       "      <th></th>\n",
       "      <th>Income</th>\n",
       "    </tr>\n",
       "  </thead>\n",
       "  <tbody>\n",
       "    <tr>\n",
       "      <th>0</th>\n",
       "      <td>84835.00</td>\n",
       "    </tr>\n",
       "    <tr>\n",
       "      <th>1</th>\n",
       "      <td>57091.00</td>\n",
       "    </tr>\n",
       "    <tr>\n",
       "      <th>2</th>\n",
       "      <td>67267.00</td>\n",
       "    </tr>\n",
       "    <tr>\n",
       "      <th>3</th>\n",
       "      <td>32474.00</td>\n",
       "    </tr>\n",
       "    <tr>\n",
       "      <th>4</th>\n",
       "      <td>21474.00</td>\n",
       "    </tr>\n",
       "    <tr>\n",
       "      <th>...</th>\n",
       "      <td>...</td>\n",
       "    </tr>\n",
       "    <tr>\n",
       "      <th>2235</th>\n",
       "      <td>66476.00</td>\n",
       "    </tr>\n",
       "    <tr>\n",
       "      <th>2236</th>\n",
       "      <td>31056.00</td>\n",
       "    </tr>\n",
       "    <tr>\n",
       "      <th>2237</th>\n",
       "      <td>46310.00</td>\n",
       "    </tr>\n",
       "    <tr>\n",
       "      <th>2238</th>\n",
       "      <td>65819.00</td>\n",
       "    </tr>\n",
       "    <tr>\n",
       "      <th>2239</th>\n",
       "      <td>94871.00</td>\n",
       "    </tr>\n",
       "  </tbody>\n",
       "</table>\n",
       "<p>2240 rows × 1 columns</p>\n",
       "</div>"
      ],
      "text/plain": [
       "         Income\n",
       "0     84835.00 \n",
       "1     57091.00 \n",
       "2     67267.00 \n",
       "3     32474.00 \n",
       "4     21474.00 \n",
       "...         ...\n",
       "2235  66476.00 \n",
       "2236  31056.00 \n",
       "2237  46310.00 \n",
       "2238  65819.00 \n",
       "2239  94871.00 \n",
       "\n",
       "[2240 rows x 1 columns]"
      ]
     },
     "execution_count": 84,
     "metadata": {},
     "output_type": "execute_result"
    }
   ],
   "source": [
    "df[['Income']]"
   ]
  },
  {
   "cell_type": "code",
   "execution_count": 85,
   "id": "1bc099e3",
   "metadata": {},
   "outputs": [],
   "source": [
    "df[\"Income\"]=df.Income.astype('float')"
   ]
  },
  {
   "cell_type": "code",
   "execution_count": 86,
   "id": "5e0116fb",
   "metadata": {},
   "outputs": [
    {
     "name": "stdout",
     "output_type": "stream",
     "text": [
      "<class 'pandas.core.frame.DataFrame'>\n",
      "RangeIndex: 2240 entries, 0 to 2239\n",
      "Data columns (total 28 columns):\n",
      " #   Column               Non-Null Count  Dtype  \n",
      "---  ------               --------------  -----  \n",
      " 0   ID                   2240 non-null   int64  \n",
      " 1   Year_Birth           2240 non-null   int64  \n",
      " 2   Education            2240 non-null   object \n",
      " 3   Marital_Status       2240 non-null   object \n",
      " 4   Income               2216 non-null   float64\n",
      " 5   Kidhome              2240 non-null   int64  \n",
      " 6   Teenhome             2240 non-null   int64  \n",
      " 7   Dt_Customer          2240 non-null   object \n",
      " 8   Recency              2240 non-null   int64  \n",
      " 9   MntWines             2240 non-null   int64  \n",
      " 10  MntFruits            2240 non-null   int64  \n",
      " 11  MntMeatProducts      2240 non-null   int64  \n",
      " 12  MntFishProducts      2240 non-null   int64  \n",
      " 13  MntSweetProducts     2240 non-null   int64  \n",
      " 14  MntGoldProds         2240 non-null   int64  \n",
      " 15  NumDealsPurchases    2240 non-null   int64  \n",
      " 16  NumWebPurchases      2240 non-null   int64  \n",
      " 17  NumCatalogPurchases  2240 non-null   int64  \n",
      " 18  NumStorePurchases    2240 non-null   int64  \n",
      " 19  NumWebVisitsMonth    2240 non-null   int64  \n",
      " 20  AcceptedCmp3         2240 non-null   int64  \n",
      " 21  AcceptedCmp4         2240 non-null   int64  \n",
      " 22  AcceptedCmp5         2240 non-null   int64  \n",
      " 23  AcceptedCmp1         2240 non-null   int64  \n",
      " 24  AcceptedCmp2         2240 non-null   int64  \n",
      " 25  Response             2240 non-null   int64  \n",
      " 26  Complain             2240 non-null   int64  \n",
      " 27  Country              2240 non-null   object \n",
      "dtypes: float64(1), int64(23), object(4)\n",
      "memory usage: 490.1+ KB\n"
     ]
    }
   ],
   "source": [
    "df.info()"
   ]
  },
  {
   "cell_type": "markdown",
   "id": "c0b873cb",
   "metadata": {},
   "source": [
    "Кроме того, даты нам было бы удобнее представить в корректном формате ГГГГ-ММ-ДД. Преобразуйте данные с датами в соответствующий вид."
   ]
  },
  {
   "cell_type": "code",
   "execution_count": 160,
   "id": "054a27bb",
   "metadata": {},
   "outputs": [],
   "source": [
    "df['Dt_Customer'] = pd.to_datetime(df['Dt_Customer'], format='%m/%d/%y')"
   ]
  },
  {
   "cell_type": "code",
   "execution_count": 161,
   "id": "dfbe3290",
   "metadata": {},
   "outputs": [
    {
     "data": {
      "text/html": [
       "<div>\n",
       "<style scoped>\n",
       "    .dataframe tbody tr th:only-of-type {\n",
       "        vertical-align: middle;\n",
       "    }\n",
       "\n",
       "    .dataframe tbody tr th {\n",
       "        vertical-align: top;\n",
       "    }\n",
       "\n",
       "    .dataframe thead th {\n",
       "        text-align: right;\n",
       "    }\n",
       "</style>\n",
       "<table border=\"1\" class=\"dataframe\">\n",
       "  <thead>\n",
       "    <tr style=\"text-align: right;\">\n",
       "      <th></th>\n",
       "      <th>Dt_Customer</th>\n",
       "    </tr>\n",
       "  </thead>\n",
       "  <tbody>\n",
       "    <tr>\n",
       "      <th>0</th>\n",
       "      <td>2014-06-16</td>\n",
       "    </tr>\n",
       "    <tr>\n",
       "      <th>1</th>\n",
       "      <td>2014-06-15</td>\n",
       "    </tr>\n",
       "    <tr>\n",
       "      <th>2</th>\n",
       "      <td>2014-05-13</td>\n",
       "    </tr>\n",
       "    <tr>\n",
       "      <th>3</th>\n",
       "      <td>2014-05-11</td>\n",
       "    </tr>\n",
       "    <tr>\n",
       "      <th>4</th>\n",
       "      <td>2014-04-08</td>\n",
       "    </tr>\n",
       "    <tr>\n",
       "      <th>...</th>\n",
       "      <td>...</td>\n",
       "    </tr>\n",
       "    <tr>\n",
       "      <th>2235</th>\n",
       "      <td>2013-03-07</td>\n",
       "    </tr>\n",
       "    <tr>\n",
       "      <th>2236</th>\n",
       "      <td>2013-01-22</td>\n",
       "    </tr>\n",
       "    <tr>\n",
       "      <th>2237</th>\n",
       "      <td>2012-12-03</td>\n",
       "    </tr>\n",
       "    <tr>\n",
       "      <th>2238</th>\n",
       "      <td>2012-11-29</td>\n",
       "    </tr>\n",
       "    <tr>\n",
       "      <th>2239</th>\n",
       "      <td>2012-09-01</td>\n",
       "    </tr>\n",
       "  </tbody>\n",
       "</table>\n",
       "<p>2240 rows × 1 columns</p>\n",
       "</div>"
      ],
      "text/plain": [
       "     Dt_Customer\n",
       "0     2014-06-16\n",
       "1     2014-06-15\n",
       "2     2014-05-13\n",
       "3     2014-05-11\n",
       "4     2014-04-08\n",
       "...          ...\n",
       "2235  2013-03-07\n",
       "2236  2013-01-22\n",
       "2237  2012-12-03\n",
       "2238  2012-11-29\n",
       "2239  2012-09-01\n",
       "\n",
       "[2240 rows x 1 columns]"
      ]
     },
     "execution_count": 161,
     "metadata": {},
     "output_type": "execute_result"
    }
   ],
   "source": [
    "df[['Dt_Customer']]"
   ]
  },
  {
   "cell_type": "markdown",
   "id": "c87a6ac0",
   "metadata": {},
   "source": [
    "## Задание 2 (1.5 балла): пропуски и выбросы"
   ]
  },
  {
   "cell_type": "markdown",
   "id": "5198fc92",
   "metadata": {},
   "source": [
    "Исследуйте данные на предмет пропусков и выбросов. Есть ли в данных пропуски? Сколько и в каких признаках? Как вы будете их обрабатывать? Обработайте пропуски, пояснив выбранную вами стратегию обработки.\n",
    "\n",
    "_важно: просто удалить - это не стратегия обработки, придумайте что-то другое_"
   ]
  },
  {
   "cell_type": "code",
   "execution_count": 89,
   "id": "b1aa312b",
   "metadata": {},
   "outputs": [
    {
     "data": {
      "text/plain": [
       "ID                      0\n",
       "Year_Birth              0\n",
       "Education               0\n",
       "Marital_Status          0\n",
       "Income                 24\n",
       "Kidhome                 0\n",
       "Teenhome                0\n",
       "Dt_Customer             0\n",
       "Recency                 0\n",
       "MntWines                0\n",
       "MntFruits               0\n",
       "MntMeatProducts         0\n",
       "MntFishProducts         0\n",
       "MntSweetProducts        0\n",
       "MntGoldProds            0\n",
       "NumDealsPurchases       0\n",
       "NumWebPurchases         0\n",
       "NumCatalogPurchases     0\n",
       "NumStorePurchases       0\n",
       "NumWebVisitsMonth       0\n",
       "AcceptedCmp3            0\n",
       "AcceptedCmp4            0\n",
       "AcceptedCmp5            0\n",
       "AcceptedCmp1            0\n",
       "AcceptedCmp2            0\n",
       "Response                0\n",
       "Complain                0\n",
       "Country                 0\n",
       "dtype: int64"
      ]
     },
     "execution_count": 89,
     "metadata": {},
     "output_type": "execute_result"
    }
   ],
   "source": [
    "df.isnull().sum()\n",
    "#Как видим, в Income пропущено 24 значения, приступим к обработке. "
   ]
  },
  {
   "cell_type": "code",
   "execution_count": 90,
   "id": "8f6c18eb",
   "metadata": {},
   "outputs": [],
   "source": [
    "# Заполним пропущенные ячейки значениями используя медиану \n",
    "median = df['Income'].median()\n",
    "df['Income'].fillna(median, inplace=True)"
   ]
  },
  {
   "cell_type": "markdown",
   "id": "88d8a7c7",
   "metadata": {},
   "source": [
    "Исследуйте данные на предмет выбросов и удалите их, если они есть. Если выбросы есть - продемонстрируйте это численно и с помощью визуализаций. Прокомментируйте, как вы ищете выбросы, и почему их стоит удалить."
   ]
  },
  {
   "cell_type": "code",
   "execution_count": 91,
   "id": "e9603dd6",
   "metadata": {},
   "outputs": [
    {
     "name": "stdout",
     "output_type": "stream",
     "text": [
      "<class 'pandas.core.frame.DataFrame'>\n",
      "RangeIndex: 2240 entries, 0 to 2239\n",
      "Data columns (total 28 columns):\n",
      " #   Column               Non-Null Count  Dtype         \n",
      "---  ------               --------------  -----         \n",
      " 0   ID                   2240 non-null   int64         \n",
      " 1   Year_Birth           2240 non-null   int64         \n",
      " 2   Education            2240 non-null   object        \n",
      " 3   Marital_Status       2240 non-null   object        \n",
      " 4   Income               2240 non-null   float64       \n",
      " 5   Kidhome              2240 non-null   int64         \n",
      " 6   Teenhome             2240 non-null   int64         \n",
      " 7   Dt_Customer          2240 non-null   datetime64[ns]\n",
      " 8   Recency              2240 non-null   int64         \n",
      " 9   MntWines             2240 non-null   int64         \n",
      " 10  MntFruits            2240 non-null   int64         \n",
      " 11  MntMeatProducts      2240 non-null   int64         \n",
      " 12  MntFishProducts      2240 non-null   int64         \n",
      " 13  MntSweetProducts     2240 non-null   int64         \n",
      " 14  MntGoldProds         2240 non-null   int64         \n",
      " 15  NumDealsPurchases    2240 non-null   int64         \n",
      " 16  NumWebPurchases      2240 non-null   int64         \n",
      " 17  NumCatalogPurchases  2240 non-null   int64         \n",
      " 18  NumStorePurchases    2240 non-null   int64         \n",
      " 19  NumWebVisitsMonth    2240 non-null   int64         \n",
      " 20  AcceptedCmp3         2240 non-null   int64         \n",
      " 21  AcceptedCmp4         2240 non-null   int64         \n",
      " 22  AcceptedCmp5         2240 non-null   int64         \n",
      " 23  AcceptedCmp1         2240 non-null   int64         \n",
      " 24  AcceptedCmp2         2240 non-null   int64         \n",
      " 25  Response             2240 non-null   int64         \n",
      " 26  Complain             2240 non-null   int64         \n",
      " 27  Country              2240 non-null   object        \n",
      "dtypes: datetime64[ns](1), float64(1), int64(23), object(3)\n",
      "memory usage: 490.1+ KB\n"
     ]
    }
   ],
   "source": [
    "df.info(\"Column\")"
   ]
  },
  {
   "cell_type": "code",
   "execution_count": 92,
   "id": "fa592ec3",
   "metadata": {},
   "outputs": [
    {
     "data": {
      "text/plain": [
       "<AxesSubplot:>"
      ]
     },
     "execution_count": 92,
     "metadata": {},
     "output_type": "execute_result"
    },
    {
     "data": {
      "image/png": "[encoded data removed]",
      "text/plain": [
       "<Figure size 432x288 with 1 Axes>"
      ]
     },
     "metadata": {},
     "output_type": "display_data"
    }
   ],
   "source": [
    "import numpy\n",
    "\n",
    "df.boxplot('Income')"
   ]
  },
  {
   "cell_type": "code",
   "execution_count": 93,
   "id": "d0ee3e50",
   "metadata": {},
   "outputs": [
    {
     "data": {
      "text/plain": [
       "527     666666.0\n",
       "731     162397.0\n",
       "497     160803.0\n",
       "853     157733.0\n",
       "2204    157243.0\n",
       "Name: Income, dtype: float64"
      ]
     },
     "execution_count": 93,
     "metadata": {},
     "output_type": "execute_result"
    }
   ],
   "source": [
    "df.Income.sort_values(ascending = False).head()"
   ]
  },
  {
   "cell_type": "markdown",
   "id": "019cebd9",
   "metadata": {},
   "source": [
    "## Выбросы будем искать при помощи IQR подхода. \n",
    "\n",
    "### IQR это разница между первым квартилем (Q1) и третьим квартилью (Q3) соответственно.\n",
    "\n",
    "### Q1 относится к первому квартилю - 25%. Q3 относится к третьему квартилю - 75%.\n",
    "\n",
    "### Мы будем использовать boxplots для обнаружения и визуализации выбросов, присутствующих в наборе данных.\n",
    "\n",
    "### Ссылка на сайт, материал которого помог в работе с выбросами: https://pythobyte.com/detection-removal-outliers-in-python-adaa857e/"
   ]
  },
  {
   "cell_type": "code",
   "execution_count": 94,
   "id": "c58aebd6",
   "metadata": {},
   "outputs": [],
   "source": [
    "for x in ['Income']:\n",
    "    q75,q25 = numpy.percentile(df.loc[:,x],[75,25])\n",
    "    intr_qr = q75-q25\n",
    "\n",
    "    max = q75+(1.5*intr_qr)\n",
    "    min = q25-(1.5*intr_qr)\n",
    "\n",
    "    df.loc[df[x] < min,x] = numpy.nan\n",
    "    df.loc[df[x] > max,x] = numpy.nan"
   ]
  },
  {
   "cell_type": "code",
   "execution_count": 95,
   "id": "9a9e5388",
   "metadata": {},
   "outputs": [
    {
     "data": {
      "text/plain": [
       "ID                     0\n",
       "Year_Birth             0\n",
       "Education              0\n",
       "Marital_Status         0\n",
       "Income                 8\n",
       "Kidhome                0\n",
       "Teenhome               0\n",
       "Dt_Customer            0\n",
       "Recency                0\n",
       "MntWines               0\n",
       "MntFruits              0\n",
       "MntMeatProducts        0\n",
       "MntFishProducts        0\n",
       "MntSweetProducts       0\n",
       "MntGoldProds           0\n",
       "NumDealsPurchases      0\n",
       "NumWebPurchases        0\n",
       "NumCatalogPurchases    0\n",
       "NumStorePurchases      0\n",
       "NumWebVisitsMonth      0\n",
       "AcceptedCmp3           0\n",
       "AcceptedCmp4           0\n",
       "AcceptedCmp5           0\n",
       "AcceptedCmp1           0\n",
       "AcceptedCmp2           0\n",
       "Response               0\n",
       "Complain               0\n",
       "Country                0\n",
       "dtype: int64"
      ]
     },
     "execution_count": 95,
     "metadata": {},
     "output_type": "execute_result"
    }
   ],
   "source": [
    "df.isnull().sum()"
   ]
  },
  {
   "cell_type": "code",
   "execution_count": 96,
   "id": "d47e00a2",
   "metadata": {},
   "outputs": [],
   "source": [
    "df = df.dropna(axis = 0)"
   ]
  },
  {
   "cell_type": "code",
   "execution_count": 97,
   "id": "d9afff93",
   "metadata": {},
   "outputs": [
    {
     "data": {
      "text/plain": [
       "ID                     0\n",
       "Year_Birth             0\n",
       "Education              0\n",
       "Marital_Status         0\n",
       "Income                 0\n",
       "Kidhome                0\n",
       "Teenhome               0\n",
       "Dt_Customer            0\n",
       "Recency                0\n",
       "MntWines               0\n",
       "MntFruits              0\n",
       "MntMeatProducts        0\n",
       "MntFishProducts        0\n",
       "MntSweetProducts       0\n",
       "MntGoldProds           0\n",
       "NumDealsPurchases      0\n",
       "NumWebPurchases        0\n",
       "NumCatalogPurchases    0\n",
       "NumStorePurchases      0\n",
       "NumWebVisitsMonth      0\n",
       "AcceptedCmp3           0\n",
       "AcceptedCmp4           0\n",
       "AcceptedCmp5           0\n",
       "AcceptedCmp1           0\n",
       "AcceptedCmp2           0\n",
       "Response               0\n",
       "Complain               0\n",
       "Country                0\n",
       "dtype: int64"
      ]
     },
     "execution_count": 97,
     "metadata": {},
     "output_type": "execute_result"
    }
   ],
   "source": [
    "df.isnull().sum()"
   ]
  },
  {
   "cell_type": "markdown",
   "id": "d97652ab",
   "metadata": {},
   "source": [
    "### Все выбросы в колонке Income были обнаружены, визулизированы и удалены\n",
    "### Такую же работу проведем и с остальными колонками, где обнаружим выбросы\n"
   ]
  },
  {
   "cell_type": "code",
   "execution_count": 98,
   "id": "099ff199",
   "metadata": {},
   "outputs": [
    {
     "data": {
      "text/plain": [
       "<AxesSubplot:>"
      ]
     },
     "execution_count": 98,
     "metadata": {},
     "output_type": "execute_result"
    },
    {
     "data": {
      "image/png": "[encoded data removed]",
      "text/plain": [
       "<Figure size 432x288 with 1 Axes>"
      ]
     },
     "metadata": {},
     "output_type": "display_data"
    }
   ],
   "source": [
    "# Приступим к обработке значений в колонке Year_Birth\n",
    "df.boxplot('Year_Birth')"
   ]
  },
  {
   "cell_type": "code",
   "execution_count": 163,
   "id": "d9342cd3",
   "metadata": {},
   "outputs": [],
   "source": [
    "for x in ['Year_Birth']:\n",
    "    q75,q25 = numpy.percentile(df.loc[:,x],[75,25])\n",
    "    intr_qr = q75-q25\n",
    "\n",
    "    max = q75+(1.5*intr_qr)\n",
    "    min = q25-(1.5*intr_qr)\n",
    "\n",
    "    df.loc[df[x] < min,x] = numpy.nan\n",
    "    df.loc[df[x] > max,x] = numpy.nan"
   ]
  },
  {
   "cell_type": "code",
   "execution_count": 164,
   "id": "c86d01b9",
   "metadata": {},
   "outputs": [
    {
     "data": {
      "text/plain": [
       "ID                      0\n",
       "Year_Birth              3\n",
       "Education               0\n",
       "Marital_Status          0\n",
       "Income                 24\n",
       "Kidhome                 0\n",
       "Teenhome                0\n",
       "Dt_Customer             0\n",
       "Recency                 0\n",
       "MntWines                0\n",
       "MntFruits               0\n",
       "MntMeatProducts         0\n",
       "MntFishProducts         0\n",
       "MntSweetProducts        0\n",
       "MntGoldProds            0\n",
       "NumDealsPurchases       0\n",
       "NumWebPurchases         0\n",
       "NumCatalogPurchases     0\n",
       "NumStorePurchases       0\n",
       "NumWebVisitsMonth       0\n",
       "AcceptedCmp3            0\n",
       "AcceptedCmp4            0\n",
       "AcceptedCmp5            0\n",
       "AcceptedCmp1            0\n",
       "AcceptedCmp2            0\n",
       "Response                0\n",
       "Complain                0\n",
       "Country                 0\n",
       "dtype: int64"
      ]
     },
     "execution_count": 164,
     "metadata": {},
     "output_type": "execute_result"
    }
   ],
   "source": [
    "df.isnull().sum()"
   ]
  },
  {
   "cell_type": "code",
   "execution_count": 165,
   "id": "69b9847e",
   "metadata": {},
   "outputs": [],
   "source": [
    "df = df.dropna(axis = 0)"
   ]
  },
  {
   "cell_type": "code",
   "execution_count": 166,
   "id": "8b4780de",
   "metadata": {},
   "outputs": [
    {
     "data": {
      "text/plain": [
       "ID                     0\n",
       "Year_Birth             0\n",
       "Education              0\n",
       "Marital_Status         0\n",
       "Income                 0\n",
       "Kidhome                0\n",
       "Teenhome               0\n",
       "Dt_Customer            0\n",
       "Recency                0\n",
       "MntWines               0\n",
       "MntFruits              0\n",
       "MntMeatProducts        0\n",
       "MntFishProducts        0\n",
       "MntSweetProducts       0\n",
       "MntGoldProds           0\n",
       "NumDealsPurchases      0\n",
       "NumWebPurchases        0\n",
       "NumCatalogPurchases    0\n",
       "NumStorePurchases      0\n",
       "NumWebVisitsMonth      0\n",
       "AcceptedCmp3           0\n",
       "AcceptedCmp4           0\n",
       "AcceptedCmp5           0\n",
       "AcceptedCmp1           0\n",
       "AcceptedCmp2           0\n",
       "Response               0\n",
       "Complain               0\n",
       "Country                0\n",
       "dtype: int64"
      ]
     },
     "execution_count": 166,
     "metadata": {},
     "output_type": "execute_result"
    }
   ],
   "source": [
    "df.isnull().sum()"
   ]
  },
  {
   "cell_type": "markdown",
   "id": "364a4ce9",
   "metadata": {},
   "source": [
    "### Тут я решил объединить переменные"
   ]
  },
  {
   "cell_type": "code",
   "execution_count": 103,
   "id": "ab7181da",
   "metadata": {},
   "outputs": [
    {
     "data": {
      "text/plain": [
       "<AxesSubplot:>"
      ]
     },
     "execution_count": 103,
     "metadata": {},
     "output_type": "execute_result"
    },
    {
     "data": {
      "image/png": "[encoded data removed]",
      "text/plain": [
       "<Figure size 432x288 with 1 Axes>"
      ]
     },
     "metadata": {},
     "output_type": "display_data"
    }
   ],
   "source": [
    "acc = ['MntWines','MntFruits','MntMeatProducts','MntFishProducts','MntSweetProducts','MntGoldProds']\n",
    "df.boxplot(acc)"
   ]
  },
  {
   "cell_type": "code",
   "execution_count": 104,
   "id": "6098e3c2",
   "metadata": {},
   "outputs": [],
   "source": [
    "for x in acc:\n",
    "    for i in x:\n",
    "        q75,q25 = numpy.percentile(df.loc[:,x],[75,25])\n",
    "        intr_qr = q75-q25\n",
    "\n",
    "        max = q75+(1.5*intr_qr)\n",
    "        min = q25-(1.5*intr_qr)\n",
    "\n",
    "        df.loc[df[x] < min,x] = numpy.nan\n",
    "        df.loc[df[x] > max,x] = numpy.nan"
   ]
  },
  {
   "cell_type": "code",
   "execution_count": 105,
   "id": "6d0a6a37",
   "metadata": {},
   "outputs": [
    {
     "data": {
      "text/plain": [
       "ID                       0\n",
       "Year_Birth               0\n",
       "Education                0\n",
       "Marital_Status           0\n",
       "Income                   0\n",
       "Kidhome                  0\n",
       "Teenhome                 0\n",
       "Dt_Customer              0\n",
       "Recency                  0\n",
       "MntWines                35\n",
       "MntFruits              247\n",
       "MntMeatProducts        173\n",
       "MntFishProducts        223\n",
       "MntSweetProducts       240\n",
       "MntGoldProds           206\n",
       "NumDealsPurchases        0\n",
       "NumWebPurchases          0\n",
       "NumCatalogPurchases      0\n",
       "NumStorePurchases        0\n",
       "NumWebVisitsMonth        0\n",
       "AcceptedCmp3             0\n",
       "AcceptedCmp4             0\n",
       "AcceptedCmp5             0\n",
       "AcceptedCmp1             0\n",
       "AcceptedCmp2             0\n",
       "Response                 0\n",
       "Complain                 0\n",
       "Country                  0\n",
       "dtype: int64"
      ]
     },
     "execution_count": 105,
     "metadata": {},
     "output_type": "execute_result"
    }
   ],
   "source": [
    "df.isnull().sum()"
   ]
  },
  {
   "cell_type": "code",
   "execution_count": 106,
   "id": "c5da9780",
   "metadata": {},
   "outputs": [],
   "source": [
    "df = df.dropna(axis = 0)"
   ]
  },
  {
   "cell_type": "code",
   "execution_count": 107,
   "id": "65a56c41",
   "metadata": {},
   "outputs": [
    {
     "data": {
      "text/plain": [
       "ID                     0\n",
       "Year_Birth             0\n",
       "Education              0\n",
       "Marital_Status         0\n",
       "Income                 0\n",
       "Kidhome                0\n",
       "Teenhome               0\n",
       "Dt_Customer            0\n",
       "Recency                0\n",
       "MntWines               0\n",
       "MntFruits              0\n",
       "MntMeatProducts        0\n",
       "MntFishProducts        0\n",
       "MntSweetProducts       0\n",
       "MntGoldProds           0\n",
       "NumDealsPurchases      0\n",
       "NumWebPurchases        0\n",
       "NumCatalogPurchases    0\n",
       "NumStorePurchases      0\n",
       "NumWebVisitsMonth      0\n",
       "AcceptedCmp3           0\n",
       "AcceptedCmp4           0\n",
       "AcceptedCmp5           0\n",
       "AcceptedCmp1           0\n",
       "AcceptedCmp2           0\n",
       "Response               0\n",
       "Complain               0\n",
       "Country                0\n",
       "dtype: int64"
      ]
     },
     "execution_count": 107,
     "metadata": {},
     "output_type": "execute_result"
    }
   ],
   "source": [
    "df.isnull().sum()"
   ]
  },
  {
   "cell_type": "markdown",
   "id": "85f6393d",
   "metadata": {},
   "source": [
    "### Мы обработали несколько переменных, обнаружили выбросы, визулизировали и удалили их. Приступим к обработке следующих переменных"
   ]
  },
  {
   "cell_type": "code",
   "execution_count": 108,
   "id": "00bb7f1d",
   "metadata": {},
   "outputs": [
    {
     "data": {
      "text/plain": [
       "<AxesSubplot:>"
      ]
     },
     "execution_count": 108,
     "metadata": {},
     "output_type": "execute_result"
    },
    {
     "data": {
      "image/png": "[encoded data removed]",
      "text/plain": [
       "<Figure size 432x288 with 1 Axes>"
      ]
     },
     "metadata": {},
     "output_type": "display_data"
    }
   ],
   "source": [
    "acc_1 = ['NumDealsPurchases','NumWebPurchases','NumCatalogPurchases','NumStorePurchases','NumWebVisitsMonth']\n",
    "df.boxplot(acc_1)"
   ]
  },
  {
   "cell_type": "code",
   "execution_count": 109,
   "id": "0ad9f2f1",
   "metadata": {},
   "outputs": [],
   "source": [
    "for x in ['NumDealsPurchases','NumWebPurchases','NumCatalogPurchases','NumStorePurchases','NumWebVisitsMonth']:\n",
    "    for i in x:\n",
    "        q75,q25 = numpy.percentile(df.loc[:,x],[75,25])\n",
    "        intr_qr = q75-q25\n",
    "\n",
    "        max = q75+(1.5*intr_qr)\n",
    "        min = q25-(1.5*intr_qr)\n",
    "\n",
    "        df.loc[df[x] < min,x] = numpy.nan\n",
    "        df.loc[df[x] > max,x] = numpy.nan"
   ]
  },
  {
   "cell_type": "code",
   "execution_count": 110,
   "id": "6d6d6fc1",
   "metadata": {},
   "outputs": [
    {
     "data": {
      "text/plain": [
       "ID                       0\n",
       "Year_Birth               0\n",
       "Education                0\n",
       "Marital_Status           0\n",
       "Income                   0\n",
       "Kidhome                  0\n",
       "Teenhome                 0\n",
       "Dt_Customer              0\n",
       "Recency                  0\n",
       "MntWines                 0\n",
       "MntFruits                0\n",
       "MntMeatProducts          0\n",
       "MntFishProducts          0\n",
       "MntSweetProducts         0\n",
       "MntGoldProds             0\n",
       "NumDealsPurchases       65\n",
       "NumWebPurchases         43\n",
       "NumCatalogPurchases     85\n",
       "NumStorePurchases      101\n",
       "NumWebVisitsMonth       43\n",
       "AcceptedCmp3             0\n",
       "AcceptedCmp4             0\n",
       "AcceptedCmp5             0\n",
       "AcceptedCmp1             0\n",
       "AcceptedCmp2             0\n",
       "Response                 0\n",
       "Complain                 0\n",
       "Country                  0\n",
       "dtype: int64"
      ]
     },
     "execution_count": 110,
     "metadata": {},
     "output_type": "execute_result"
    }
   ],
   "source": [
    "df.isnull().sum()"
   ]
  },
  {
   "cell_type": "code",
   "execution_count": 111,
   "id": "d490396b",
   "metadata": {},
   "outputs": [
    {
     "data": {
      "text/plain": [
       "ID                     0\n",
       "Year_Birth             0\n",
       "Education              0\n",
       "Marital_Status         0\n",
       "Income                 0\n",
       "Kidhome                0\n",
       "Teenhome               0\n",
       "Dt_Customer            0\n",
       "Recency                0\n",
       "MntWines               0\n",
       "MntFruits              0\n",
       "MntMeatProducts        0\n",
       "MntFishProducts        0\n",
       "MntSweetProducts       0\n",
       "MntGoldProds           0\n",
       "NumDealsPurchases      0\n",
       "NumWebPurchases        0\n",
       "NumCatalogPurchases    0\n",
       "NumStorePurchases      0\n",
       "NumWebVisitsMonth      0\n",
       "AcceptedCmp3           0\n",
       "AcceptedCmp4           0\n",
       "AcceptedCmp5           0\n",
       "AcceptedCmp1           0\n",
       "AcceptedCmp2           0\n",
       "Response               0\n",
       "Complain               0\n",
       "Country                0\n",
       "dtype: int64"
      ]
     },
     "execution_count": 111,
     "metadata": {},
     "output_type": "execute_result"
    }
   ],
   "source": [
    "df = df.dropna(axis = 0)\n",
    "df.isnull().sum()"
   ]
  },
  {
   "cell_type": "markdown",
   "id": "51fe60de",
   "metadata": {},
   "source": [
    "### Обработали переменные Mnt, нашли выбросы, показали визуально и удалили их"
   ]
  },
  {
   "cell_type": "markdown",
   "id": "303bdeed",
   "metadata": {},
   "source": [
    "## Задание 3 (1 балл): новые признаки"
   ]
  },
  {
   "cell_type": "markdown",
   "id": "bb465340",
   "metadata": {},
   "source": [
    "Подумайте, какие осмысленные признаки можно создать из имеющихся? Придумайте как минимум 2 и добавьте их, содержательно описав, почему вы их добавляете и по какому принципу."
   ]
  },
  {
   "cell_type": "markdown",
   "id": "f3e1b314",
   "metadata": {},
   "source": [
    "### Создадим признак, который будет показывать зависимость количество сладкого, купленного за последние два года от количества детей и подростков в семье\n"
   ]
  },
  {
   "cell_type": "markdown",
   "id": "1bb33eb6",
   "metadata": {},
   "source": [
    "#### Создадим новую колонку. Суммурием количество детей и подростков в семье"
   ]
  },
  {
   "cell_type": "code",
   "execution_count": 113,
   "id": "82ec0ff3",
   "metadata": {},
   "outputs": [],
   "source": [
    "df['SumKidsHome'] = df[['Kidhome','Teenhome']].sum(axis=1)"
   ]
  },
  {
   "cell_type": "code",
   "execution_count": 114,
   "id": "2b04a30e",
   "metadata": {},
   "outputs": [
    {
     "data": {
      "text/plain": [
       "1       0\n",
       "2       1\n",
       "3       2\n",
       "4       1\n",
       "7       1\n",
       "       ..\n",
       "2231    1\n",
       "2232    1\n",
       "2234    1\n",
       "2236    1\n",
       "2237    1\n",
       "Name: SumKidsHome, Length: 1336, dtype: int64"
      ]
     },
     "execution_count": 114,
     "metadata": {},
     "output_type": "execute_result"
    }
   ],
   "source": [
    "df['SumKidsHome']"
   ]
  },
  {
   "cell_type": "code",
   "execution_count": 115,
   "id": "613e95c9",
   "metadata": {},
   "outputs": [],
   "source": [
    "import matplotlib.pyplot as plt"
   ]
  },
  {
   "cell_type": "markdown",
   "id": "29499756",
   "metadata": {},
   "source": [
    "### Материалы по seaborn и метод визуализации использовал с этого сайта: https://seaborn.pydata.org/introduction.html"
   ]
  },
  {
   "cell_type": "code",
   "execution_count": 116,
   "id": "948e1f82",
   "metadata": {},
   "outputs": [
    {
     "data": {
      "text/plain": [
       "<seaborn.axisgrid.FacetGrid at 0x7f906c02d6a0>"
      ]
     },
     "execution_count": 116,
     "metadata": {},
     "output_type": "execute_result"
    },
    {
     "data": {
      "image/png": "[encoded data removed]",
      "text/plain": [
       "<Figure size 360x360 with 1 Axes>"
      ]
     },
     "metadata": {},
     "output_type": "display_data"
    }
   ],
   "source": [
    "import seaborn as sns\n",
    "\n",
    "sns.set_theme()\n",
    "\n",
    "sns.relplot(\n",
    "    data=df,\n",
    "    x=\"SumKidsHome\", y=\"MntSweetProducts\",\n",
    ")"
   ]
  },
  {
   "cell_type": "markdown",
   "id": "d4c7e1f5",
   "metadata": {},
   "source": [
    "#### Можно сделать вывод о том, что при увеличении количества детей в семье, количество покупок сладкого уменьшается. "
   ]
  },
  {
   "cell_type": "markdown",
   "id": "5e023ae7",
   "metadata": {},
   "source": [
    "#### Узнаем, зависит ли количество покупок фруктов от количества детей в семье. "
   ]
  },
  {
   "cell_type": "code",
   "execution_count": 156,
   "id": "a0a76ae4",
   "metadata": {},
   "outputs": [
    {
     "data": {
      "text/plain": [
       "<seaborn.axisgrid.FacetGrid at 0x7f905186bd90>"
      ]
     },
     "execution_count": 156,
     "metadata": {},
     "output_type": "execute_result"
    },
    {
     "data": {
      "image/png": "[encoded data removed]",
      "text/plain": [
       "<Figure size 360x360 with 1 Axes>"
      ]
     },
     "metadata": {},
     "output_type": "display_data"
    }
   ],
   "source": [
    "sns.set_theme()\n",
    "\n",
    "sns.relplot(\n",
    "    data=df,\n",
    "    x=\"SumKidsHome\", y=\"MntFruits\",\n",
    ")"
   ]
  },
  {
   "cell_type": "markdown",
   "id": "26053cb7",
   "metadata": {},
   "source": [
    "#### Как видим, с увеличением количества детей в семье, количество покупок фруктов снижается. "
   ]
  },
  {
   "cell_type": "markdown",
   "id": "b0d215b0",
   "metadata": {},
   "source": [
    "### Создадим новый признак. Суммируем количество покупок сделанных в магазинах, с помощью каталогов, через интернет-ресурс и со скидками. Этот признак покажет нам количество совершенных покупок за последние 2 года каждым пользователем."
   ]
  },
  {
   "cell_type": "code",
   "execution_count": 38,
   "id": "ca692008",
   "metadata": {},
   "outputs": [],
   "source": [
    "df['SumPurchases'] = df[['NumDealsPurchases','NumWebPurchases','NumCatalogPurchases','NumStorePurchases']].sum(axis=1)"
   ]
  },
  {
   "cell_type": "code",
   "execution_count": 39,
   "id": "e3220788",
   "metadata": {},
   "outputs": [
    {
     "data": {
      "text/html": [
       "<div>\n",
       "<style scoped>\n",
       "    .dataframe tbody tr th:only-of-type {\n",
       "        vertical-align: middle;\n",
       "    }\n",
       "\n",
       "    .dataframe tbody tr th {\n",
       "        vertical-align: top;\n",
       "    }\n",
       "\n",
       "    .dataframe thead th {\n",
       "        text-align: right;\n",
       "    }\n",
       "</style>\n",
       "<table border=\"1\" class=\"dataframe\">\n",
       "  <thead>\n",
       "    <tr style=\"text-align: right;\">\n",
       "      <th></th>\n",
       "      <th>SumPurchases</th>\n",
       "    </tr>\n",
       "  </thead>\n",
       "  <tbody>\n",
       "    <tr>\n",
       "      <th>1</th>\n",
       "      <td>18.0</td>\n",
       "    </tr>\n",
       "    <tr>\n",
       "      <th>2</th>\n",
       "      <td>11.0</td>\n",
       "    </tr>\n",
       "    <tr>\n",
       "      <th>3</th>\n",
       "      <td>4.0</td>\n",
       "    </tr>\n",
       "    <tr>\n",
       "      <th>4</th>\n",
       "      <td>8.0</td>\n",
       "    </tr>\n",
       "    <tr>\n",
       "      <th>7</th>\n",
       "      <td>7.0</td>\n",
       "    </tr>\n",
       "    <tr>\n",
       "      <th>...</th>\n",
       "      <td>...</td>\n",
       "    </tr>\n",
       "    <tr>\n",
       "      <th>2231</th>\n",
       "      <td>7.0</td>\n",
       "    </tr>\n",
       "    <tr>\n",
       "      <th>2232</th>\n",
       "      <td>7.0</td>\n",
       "    </tr>\n",
       "    <tr>\n",
       "      <th>2234</th>\n",
       "      <td>20.0</td>\n",
       "    </tr>\n",
       "    <tr>\n",
       "      <th>2236</th>\n",
       "      <td>5.0</td>\n",
       "    </tr>\n",
       "    <tr>\n",
       "      <th>2237</th>\n",
       "      <td>14.0</td>\n",
       "    </tr>\n",
       "  </tbody>\n",
       "</table>\n",
       "<p>1336 rows × 1 columns</p>\n",
       "</div>"
      ],
      "text/plain": [
       "      SumPurchases\n",
       "1             18.0\n",
       "2             11.0\n",
       "3              4.0\n",
       "4              8.0\n",
       "7              7.0\n",
       "...            ...\n",
       "2231           7.0\n",
       "2232           7.0\n",
       "2234          20.0\n",
       "2236           5.0\n",
       "2237          14.0\n",
       "\n",
       "[1336 rows x 1 columns]"
      ]
     },
     "execution_count": 39,
     "metadata": {},
     "output_type": "execute_result"
    }
   ],
   "source": [
    "df[['SumPurchases']]"
   ]
  },
  {
   "cell_type": "markdown",
   "id": "7824ea50",
   "metadata": {},
   "source": [
    "## Задание 4 (2.5 балла): время статистики!"
   ]
  },
  {
   "cell_type": "markdown",
   "id": "816ac1bc",
   "metadata": {},
   "source": [
    "Рассчитайте все описательные статистики для категориальных переменных (есть специальный метод, который выводит все доступные статистики разом - это то, что нужно!). Опишите, какие выводы вы можете сделать из полученных данных."
   ]
  },
  {
   "cell_type": "markdown",
   "id": "d1024802",
   "metadata": {},
   "source": [
    "#### Два способа вывода категориальных переменных:"
   ]
  },
  {
   "cell_type": "code",
   "execution_count": 40,
   "id": "8e607812",
   "metadata": {},
   "outputs": [
    {
     "data": {
      "text/html": [
       "<div>\n",
       "<style scoped>\n",
       "    .dataframe tbody tr th:only-of-type {\n",
       "        vertical-align: middle;\n",
       "    }\n",
       "\n",
       "    .dataframe tbody tr th {\n",
       "        vertical-align: top;\n",
       "    }\n",
       "\n",
       "    .dataframe thead th {\n",
       "        text-align: right;\n",
       "    }\n",
       "</style>\n",
       "<table border=\"1\" class=\"dataframe\">\n",
       "  <thead>\n",
       "    <tr style=\"text-align: right;\">\n",
       "      <th></th>\n",
       "      <th>Education</th>\n",
       "      <th>Marital_Status</th>\n",
       "      <th>Country</th>\n",
       "    </tr>\n",
       "  </thead>\n",
       "  <tbody>\n",
       "    <tr>\n",
       "      <th>count</th>\n",
       "      <td>1336</td>\n",
       "      <td>1336</td>\n",
       "      <td>1336</td>\n",
       "    </tr>\n",
       "    <tr>\n",
       "      <th>unique</th>\n",
       "      <td>5</td>\n",
       "      <td>7</td>\n",
       "      <td>8</td>\n",
       "    </tr>\n",
       "    <tr>\n",
       "      <th>top</th>\n",
       "      <td>Graduation</td>\n",
       "      <td>Married</td>\n",
       "      <td>SP</td>\n",
       "    </tr>\n",
       "    <tr>\n",
       "      <th>freq</th>\n",
       "      <td>640</td>\n",
       "      <td>523</td>\n",
       "      <td>662</td>\n",
       "    </tr>\n",
       "  </tbody>\n",
       "</table>\n",
       "</div>"
      ],
      "text/plain": [
       "         Education Marital_Status Country\n",
       "count         1336           1336    1336\n",
       "unique           5              7       8\n",
       "top     Graduation        Married      SP\n",
       "freq           640            523     662"
      ]
     },
     "execution_count": 40,
     "metadata": {},
     "output_type": "execute_result"
    }
   ],
   "source": [
    "df.describe(include = 'object')"
   ]
  },
  {
   "cell_type": "code",
   "execution_count": 41,
   "id": "dce51737",
   "metadata": {},
   "outputs": [
    {
     "data": {
      "text/html": [
       "<div>\n",
       "<style scoped>\n",
       "    .dataframe tbody tr th:only-of-type {\n",
       "        vertical-align: middle;\n",
       "    }\n",
       "\n",
       "    .dataframe tbody tr th {\n",
       "        vertical-align: top;\n",
       "    }\n",
       "\n",
       "    .dataframe thead th {\n",
       "        text-align: right;\n",
       "    }\n",
       "</style>\n",
       "<table border=\"1\" class=\"dataframe\">\n",
       "  <thead>\n",
       "    <tr style=\"text-align: right;\">\n",
       "      <th></th>\n",
       "      <th>Education</th>\n",
       "      <th>Marital_Status</th>\n",
       "      <th>Country</th>\n",
       "    </tr>\n",
       "  </thead>\n",
       "  <tbody>\n",
       "    <tr>\n",
       "      <th>count</th>\n",
       "      <td>1336</td>\n",
       "      <td>1336</td>\n",
       "      <td>1336</td>\n",
       "    </tr>\n",
       "    <tr>\n",
       "      <th>unique</th>\n",
       "      <td>5</td>\n",
       "      <td>7</td>\n",
       "      <td>8</td>\n",
       "    </tr>\n",
       "    <tr>\n",
       "      <th>top</th>\n",
       "      <td>Graduation</td>\n",
       "      <td>Married</td>\n",
       "      <td>SP</td>\n",
       "    </tr>\n",
       "    <tr>\n",
       "      <th>freq</th>\n",
       "      <td>640</td>\n",
       "      <td>523</td>\n",
       "      <td>662</td>\n",
       "    </tr>\n",
       "  </tbody>\n",
       "</table>\n",
       "</div>"
      ],
      "text/plain": [
       "         Education Marital_Status Country\n",
       "count         1336           1336    1336\n",
       "unique           5              7       8\n",
       "top     Graduation        Married      SP\n",
       "freq           640            523     662"
      ]
     },
     "execution_count": 41,
     "metadata": {},
     "output_type": "execute_result"
    }
   ],
   "source": [
    "df[['Education','Marital_Status','Country']].describe()"
   ]
  },
  {
   "cell_type": "code",
   "execution_count": null,
   "id": "ceff0542",
   "metadata": {},
   "outputs": [],
   "source": [
    "# Очевидно, можно сделать вывод, что чаще всего пользователи окончили образование, уже женаты и проживают в SP. "
   ]
  },
  {
   "cell_type": "markdown",
   "id": "2f767778",
   "metadata": {},
   "source": [
    "Рассчитайте все описательные статистики для количественных переменных.  (есть специальный метод, который выводит все доступные статистики разом - это то, что нужно!) Опишите, какие выводы вы можете сделать из полученных данных (хотя бы про какие-то 3 признака)."
   ]
  },
  {
   "cell_type": "code",
   "execution_count": 167,
   "id": "b11d3686",
   "metadata": {},
   "outputs": [
    {
     "data": {
      "text/html": [
       "<div>\n",
       "<style scoped>\n",
       "    .dataframe tbody tr th:only-of-type {\n",
       "        vertical-align: middle;\n",
       "    }\n",
       "\n",
       "    .dataframe tbody tr th {\n",
       "        vertical-align: top;\n",
       "    }\n",
       "\n",
       "    .dataframe thead th {\n",
       "        text-align: right;\n",
       "    }\n",
       "</style>\n",
       "<table border=\"1\" class=\"dataframe\">\n",
       "  <thead>\n",
       "    <tr style=\"text-align: right;\">\n",
       "      <th></th>\n",
       "      <th>ID</th>\n",
       "      <th>Year_Birth</th>\n",
       "      <th>Kidhome</th>\n",
       "      <th>Teenhome</th>\n",
       "      <th>Recency</th>\n",
       "      <th>MntWines</th>\n",
       "      <th>MntFruits</th>\n",
       "      <th>MntMeatProducts</th>\n",
       "      <th>MntFishProducts</th>\n",
       "      <th>MntSweetProducts</th>\n",
       "      <th>...</th>\n",
       "      <th>NumCatalogPurchases</th>\n",
       "      <th>NumStorePurchases</th>\n",
       "      <th>NumWebVisitsMonth</th>\n",
       "      <th>AcceptedCmp3</th>\n",
       "      <th>AcceptedCmp4</th>\n",
       "      <th>AcceptedCmp5</th>\n",
       "      <th>AcceptedCmp1</th>\n",
       "      <th>AcceptedCmp2</th>\n",
       "      <th>Response</th>\n",
       "      <th>Complain</th>\n",
       "    </tr>\n",
       "  </thead>\n",
       "  <tbody>\n",
       "    <tr>\n",
       "      <th>count</th>\n",
       "      <td>2213.000000</td>\n",
       "      <td>2213.000000</td>\n",
       "      <td>2213.000000</td>\n",
       "      <td>2213.000000</td>\n",
       "      <td>2213.000000</td>\n",
       "      <td>2213.000000</td>\n",
       "      <td>2213.000000</td>\n",
       "      <td>2213.000000</td>\n",
       "      <td>2213.000000</td>\n",
       "      <td>2213.000000</td>\n",
       "      <td>...</td>\n",
       "      <td>2213.000000</td>\n",
       "      <td>2213.000000</td>\n",
       "      <td>2213.000000</td>\n",
       "      <td>2213.000000</td>\n",
       "      <td>2213.000000</td>\n",
       "      <td>2213.000000</td>\n",
       "      <td>2213.000000</td>\n",
       "      <td>2213.000000</td>\n",
       "      <td>2213.000000</td>\n",
       "      <td>2213.000000</td>\n",
       "    </tr>\n",
       "    <tr>\n",
       "      <th>mean</th>\n",
       "      <td>5586.899232</td>\n",
       "      <td>1968.917307</td>\n",
       "      <td>0.441934</td>\n",
       "      <td>0.505648</td>\n",
       "      <td>49.007682</td>\n",
       "      <td>305.153638</td>\n",
       "      <td>26.323995</td>\n",
       "      <td>166.962494</td>\n",
       "      <td>37.635337</td>\n",
       "      <td>27.034794</td>\n",
       "      <td>...</td>\n",
       "      <td>2.671487</td>\n",
       "      <td>5.805242</td>\n",
       "      <td>5.321735</td>\n",
       "      <td>0.073656</td>\n",
       "      <td>0.074108</td>\n",
       "      <td>0.072752</td>\n",
       "      <td>0.064166</td>\n",
       "      <td>0.013556</td>\n",
       "      <td>0.150474</td>\n",
       "      <td>0.009038</td>\n",
       "    </tr>\n",
       "    <tr>\n",
       "      <th>std</th>\n",
       "      <td>3247.819194</td>\n",
       "      <td>11.700216</td>\n",
       "      <td>0.536965</td>\n",
       "      <td>0.544236</td>\n",
       "      <td>28.941864</td>\n",
       "      <td>337.305490</td>\n",
       "      <td>39.735932</td>\n",
       "      <td>224.226178</td>\n",
       "      <td>54.763278</td>\n",
       "      <td>41.085433</td>\n",
       "      <td>...</td>\n",
       "      <td>2.927096</td>\n",
       "      <td>3.250752</td>\n",
       "      <td>2.425092</td>\n",
       "      <td>0.261269</td>\n",
       "      <td>0.262005</td>\n",
       "      <td>0.259788</td>\n",
       "      <td>0.245104</td>\n",
       "      <td>0.115666</td>\n",
       "      <td>0.357617</td>\n",
       "      <td>0.094657</td>\n",
       "    </tr>\n",
       "    <tr>\n",
       "      <th>min</th>\n",
       "      <td>0.000000</td>\n",
       "      <td>1940.000000</td>\n",
       "      <td>0.000000</td>\n",
       "      <td>0.000000</td>\n",
       "      <td>0.000000</td>\n",
       "      <td>0.000000</td>\n",
       "      <td>0.000000</td>\n",
       "      <td>0.000000</td>\n",
       "      <td>0.000000</td>\n",
       "      <td>0.000000</td>\n",
       "      <td>...</td>\n",
       "      <td>0.000000</td>\n",
       "      <td>0.000000</td>\n",
       "      <td>0.000000</td>\n",
       "      <td>0.000000</td>\n",
       "      <td>0.000000</td>\n",
       "      <td>0.000000</td>\n",
       "      <td>0.000000</td>\n",
       "      <td>0.000000</td>\n",
       "      <td>0.000000</td>\n",
       "      <td>0.000000</td>\n",
       "    </tr>\n",
       "    <tr>\n",
       "      <th>25%</th>\n",
       "      <td>2815.000000</td>\n",
       "      <td>1959.000000</td>\n",
       "      <td>0.000000</td>\n",
       "      <td>0.000000</td>\n",
       "      <td>24.000000</td>\n",
       "      <td>24.000000</td>\n",
       "      <td>2.000000</td>\n",
       "      <td>16.000000</td>\n",
       "      <td>3.000000</td>\n",
       "      <td>1.000000</td>\n",
       "      <td>...</td>\n",
       "      <td>0.000000</td>\n",
       "      <td>3.000000</td>\n",
       "      <td>3.000000</td>\n",
       "      <td>0.000000</td>\n",
       "      <td>0.000000</td>\n",
       "      <td>0.000000</td>\n",
       "      <td>0.000000</td>\n",
       "      <td>0.000000</td>\n",
       "      <td>0.000000</td>\n",
       "      <td>0.000000</td>\n",
       "    </tr>\n",
       "    <tr>\n",
       "      <th>50%</th>\n",
       "      <td>5455.000000</td>\n",
       "      <td>1970.000000</td>\n",
       "      <td>0.000000</td>\n",
       "      <td>0.000000</td>\n",
       "      <td>49.000000</td>\n",
       "      <td>175.000000</td>\n",
       "      <td>8.000000</td>\n",
       "      <td>68.000000</td>\n",
       "      <td>12.000000</td>\n",
       "      <td>8.000000</td>\n",
       "      <td>...</td>\n",
       "      <td>2.000000</td>\n",
       "      <td>5.000000</td>\n",
       "      <td>6.000000</td>\n",
       "      <td>0.000000</td>\n",
       "      <td>0.000000</td>\n",
       "      <td>0.000000</td>\n",
       "      <td>0.000000</td>\n",
       "      <td>0.000000</td>\n",
       "      <td>0.000000</td>\n",
       "      <td>0.000000</td>\n",
       "    </tr>\n",
       "    <tr>\n",
       "      <th>75%</th>\n",
       "      <td>8420.000000</td>\n",
       "      <td>1977.000000</td>\n",
       "      <td>1.000000</td>\n",
       "      <td>1.000000</td>\n",
       "      <td>74.000000</td>\n",
       "      <td>505.000000</td>\n",
       "      <td>33.000000</td>\n",
       "      <td>232.000000</td>\n",
       "      <td>50.000000</td>\n",
       "      <td>33.000000</td>\n",
       "      <td>...</td>\n",
       "      <td>4.000000</td>\n",
       "      <td>8.000000</td>\n",
       "      <td>7.000000</td>\n",
       "      <td>0.000000</td>\n",
       "      <td>0.000000</td>\n",
       "      <td>0.000000</td>\n",
       "      <td>0.000000</td>\n",
       "      <td>0.000000</td>\n",
       "      <td>0.000000</td>\n",
       "      <td>0.000000</td>\n",
       "    </tr>\n",
       "    <tr>\n",
       "      <th>max</th>\n",
       "      <td>11191.000000</td>\n",
       "      <td>1996.000000</td>\n",
       "      <td>2.000000</td>\n",
       "      <td>2.000000</td>\n",
       "      <td>99.000000</td>\n",
       "      <td>1493.000000</td>\n",
       "      <td>199.000000</td>\n",
       "      <td>1725.000000</td>\n",
       "      <td>259.000000</td>\n",
       "      <td>262.000000</td>\n",
       "      <td>...</td>\n",
       "      <td>28.000000</td>\n",
       "      <td>13.000000</td>\n",
       "      <td>20.000000</td>\n",
       "      <td>1.000000</td>\n",
       "      <td>1.000000</td>\n",
       "      <td>1.000000</td>\n",
       "      <td>1.000000</td>\n",
       "      <td>1.000000</td>\n",
       "      <td>1.000000</td>\n",
       "      <td>1.000000</td>\n",
       "    </tr>\n",
       "  </tbody>\n",
       "</table>\n",
       "<p>8 rows × 23 columns</p>\n",
       "</div>"
      ],
      "text/plain": [
       "                 ID   Year_Birth      Kidhome     Teenhome      Recency  \\\n",
       "count   2213.000000  2213.000000  2213.000000  2213.000000  2213.000000   \n",
       "mean    5586.899232  1968.917307     0.441934     0.505648    49.007682   \n",
       "std     3247.819194    11.700216     0.536965     0.544236    28.941864   \n",
       "min        0.000000  1940.000000     0.000000     0.000000     0.000000   \n",
       "25%     2815.000000  1959.000000     0.000000     0.000000    24.000000   \n",
       "50%     5455.000000  1970.000000     0.000000     0.000000    49.000000   \n",
       "75%     8420.000000  1977.000000     1.000000     1.000000    74.000000   \n",
       "max    11191.000000  1996.000000     2.000000     2.000000    99.000000   \n",
       "\n",
       "          MntWines    MntFruits  MntMeatProducts  MntFishProducts  \\\n",
       "count  2213.000000  2213.000000      2213.000000      2213.000000   \n",
       "mean    305.153638    26.323995       166.962494        37.635337   \n",
       "std     337.305490    39.735932       224.226178        54.763278   \n",
       "min       0.000000     0.000000         0.000000         0.000000   \n",
       "25%      24.000000     2.000000        16.000000         3.000000   \n",
       "50%     175.000000     8.000000        68.000000        12.000000   \n",
       "75%     505.000000    33.000000       232.000000        50.000000   \n",
       "max    1493.000000   199.000000      1725.000000       259.000000   \n",
       "\n",
       "       MntSweetProducts  ...  NumCatalogPurchases  NumStorePurchases  \\\n",
       "count       2213.000000  ...          2213.000000        2213.000000   \n",
       "mean          27.034794  ...             2.671487           5.805242   \n",
       "std           41.085433  ...             2.927096           3.250752   \n",
       "min            0.000000  ...             0.000000           0.000000   \n",
       "25%            1.000000  ...             0.000000           3.000000   \n",
       "50%            8.000000  ...             2.000000           5.000000   \n",
       "75%           33.000000  ...             4.000000           8.000000   \n",
       "max          262.000000  ...            28.000000          13.000000   \n",
       "\n",
       "       NumWebVisitsMonth  AcceptedCmp3  AcceptedCmp4  AcceptedCmp5  \\\n",
       "count        2213.000000   2213.000000   2213.000000   2213.000000   \n",
       "mean            5.321735      0.073656      0.074108      0.072752   \n",
       "std             2.425092      0.261269      0.262005      0.259788   \n",
       "min             0.000000      0.000000      0.000000      0.000000   \n",
       "25%             3.000000      0.000000      0.000000      0.000000   \n",
       "50%             6.000000      0.000000      0.000000      0.000000   \n",
       "75%             7.000000      0.000000      0.000000      0.000000   \n",
       "max            20.000000      1.000000      1.000000      1.000000   \n",
       "\n",
       "       AcceptedCmp1  AcceptedCmp2     Response     Complain  \n",
       "count   2213.000000   2213.000000  2213.000000  2213.000000  \n",
       "mean       0.064166      0.013556     0.150474     0.009038  \n",
       "std        0.245104      0.115666     0.357617     0.094657  \n",
       "min        0.000000      0.000000     0.000000     0.000000  \n",
       "25%        0.000000      0.000000     0.000000     0.000000  \n",
       "50%        0.000000      0.000000     0.000000     0.000000  \n",
       "75%        0.000000      0.000000     0.000000     0.000000  \n",
       "max        1.000000      1.000000     1.000000     1.000000  \n",
       "\n",
       "[8 rows x 23 columns]"
      ]
     },
     "execution_count": 167,
     "metadata": {},
     "output_type": "execute_result"
    }
   ],
   "source": [
    "df.describe()"
   ]
  },
  {
   "cell_type": "markdown",
   "id": "4a0135cb",
   "metadata": {},
   "source": [
    "#### Минимальный доход пользователей - 7500$\n",
    "#### Самый молодой пользователь родился в 1996 году. \n",
    "#### Максимальное количество детей и подростков в семье - 3. Однако же максимальное количество и детей и подростков в семье по отдельности - 2. Значит, что нет ни одной семьи, где двое подростков и двое детей. "
   ]
  },
  {
   "cell_type": "markdown",
   "id": "d164add7",
   "metadata": {},
   "source": [
    "Выберите 3 интересующих вас количественных признака и рассчитайте релевантные с вашей точки зрения описательные статистики для этих признаков, сгруппировав данные по семейному положению, образованию, стране. Какие закономерности вы можете отметить? Как их можно проинтерпретировать? "
   ]
  },
  {
   "cell_type": "code",
   "execution_count": 43,
   "id": "3970e087",
   "metadata": {},
   "outputs": [
    {
     "data": {
      "text/html": [
       "<div>\n",
       "<style scoped>\n",
       "    .dataframe tbody tr th:only-of-type {\n",
       "        vertical-align: middle;\n",
       "    }\n",
       "\n",
       "    .dataframe tbody tr th {\n",
       "        vertical-align: top;\n",
       "    }\n",
       "\n",
       "    .dataframe thead th {\n",
       "        text-align: right;\n",
       "    }\n",
       "</style>\n",
       "<table border=\"1\" class=\"dataframe\">\n",
       "  <thead>\n",
       "    <tr style=\"text-align: right;\">\n",
       "      <th></th>\n",
       "      <th></th>\n",
       "      <th></th>\n",
       "      <th>Income</th>\n",
       "      <th>MntWines</th>\n",
       "      <th>MntMeatProducts</th>\n",
       "    </tr>\n",
       "    <tr>\n",
       "      <th>Country</th>\n",
       "      <th>Education</th>\n",
       "      <th>Marital_Status</th>\n",
       "      <th></th>\n",
       "      <th></th>\n",
       "      <th></th>\n",
       "    </tr>\n",
       "  </thead>\n",
       "  <tbody>\n",
       "    <tr>\n",
       "      <th rowspan=\"5\" valign=\"top\">AUS</th>\n",
       "      <th rowspan=\"3\" valign=\"top\">2n Cycle</th>\n",
       "      <th>Married</th>\n",
       "      <td>15609.000000</td>\n",
       "      <td>4.500000</td>\n",
       "      <td>14.000000</td>\n",
       "    </tr>\n",
       "    <tr>\n",
       "      <th>Single</th>\n",
       "      <td>46519.750000</td>\n",
       "      <td>6.500000</td>\n",
       "      <td>10.500000</td>\n",
       "    </tr>\n",
       "    <tr>\n",
       "      <th>Together</th>\n",
       "      <td>39983.666667</td>\n",
       "      <td>35.333333</td>\n",
       "      <td>21.666667</td>\n",
       "    </tr>\n",
       "    <tr>\n",
       "      <th rowspan=\"2\" valign=\"top\">Basic</th>\n",
       "      <th>Married</th>\n",
       "      <td>17487.000000</td>\n",
       "      <td>0.000000</td>\n",
       "      <td>1.000000</td>\n",
       "    </tr>\n",
       "    <tr>\n",
       "      <th>Together</th>\n",
       "      <td>22512.000000</td>\n",
       "      <td>1.000000</td>\n",
       "      <td>7.500000</td>\n",
       "    </tr>\n",
       "    <tr>\n",
       "      <th>...</th>\n",
       "      <th>...</th>\n",
       "      <th>...</th>\n",
       "      <td>...</td>\n",
       "      <td>...</td>\n",
       "      <td>...</td>\n",
       "    </tr>\n",
       "    <tr>\n",
       "      <th rowspan=\"5\" valign=\"top\">US</th>\n",
       "      <th>Master</th>\n",
       "      <th>Widow</th>\n",
       "      <td>47570.000000</td>\n",
       "      <td>67.000000</td>\n",
       "      <td>20.000000</td>\n",
       "    </tr>\n",
       "    <tr>\n",
       "      <th rowspan=\"4\" valign=\"top\">PhD</th>\n",
       "      <th>Divorced</th>\n",
       "      <td>50611.000000</td>\n",
       "      <td>459.000000</td>\n",
       "      <td>24.000000</td>\n",
       "    </tr>\n",
       "    <tr>\n",
       "      <th>Married</th>\n",
       "      <td>53919.500000</td>\n",
       "      <td>375.000000</td>\n",
       "      <td>90.500000</td>\n",
       "    </tr>\n",
       "    <tr>\n",
       "      <th>Single</th>\n",
       "      <td>44338.500000</td>\n",
       "      <td>101.000000</td>\n",
       "      <td>143.500000</td>\n",
       "    </tr>\n",
       "    <tr>\n",
       "      <th>Together</th>\n",
       "      <td>30351.000000</td>\n",
       "      <td>14.000000</td>\n",
       "      <td>24.000000</td>\n",
       "    </tr>\n",
       "  </tbody>\n",
       "</table>\n",
       "<p>148 rows × 3 columns</p>\n",
       "</div>"
      ],
      "text/plain": [
       "                                        Income    MntWines  MntMeatProducts\n",
       "Country Education Marital_Status                                           \n",
       "AUS     2n Cycle  Married         15609.000000    4.500000        14.000000\n",
       "                  Single          46519.750000    6.500000        10.500000\n",
       "                  Together        39983.666667   35.333333        21.666667\n",
       "        Basic     Married         17487.000000    0.000000         1.000000\n",
       "                  Together        22512.000000    1.000000         7.500000\n",
       "...                                        ...         ...              ...\n",
       "US      Master    Widow           47570.000000   67.000000        20.000000\n",
       "        PhD       Divorced        50611.000000  459.000000        24.000000\n",
       "                  Married         53919.500000  375.000000        90.500000\n",
       "                  Single          44338.500000  101.000000       143.500000\n",
       "                  Together        30351.000000   14.000000        24.000000\n",
       "\n",
       "[148 rows x 3 columns]"
      ]
     },
     "execution_count": 43,
     "metadata": {},
     "output_type": "execute_result"
    }
   ],
   "source": [
    "df.groupby(['Country','Education','Marital_Status']).aggregate({'Income': 'mean','MntWines': 'mean','MntMeatProducts': 'mean'})"
   ]
  },
  {
   "cell_type": "code",
   "execution_count": 44,
   "id": "0dba6e87",
   "metadata": {},
   "outputs": [
    {
     "data": {
      "text/html": [
       "<div>\n",
       "<style scoped>\n",
       "    .dataframe tbody tr th:only-of-type {\n",
       "        vertical-align: middle;\n",
       "    }\n",
       "\n",
       "    .dataframe tbody tr th {\n",
       "        vertical-align: top;\n",
       "    }\n",
       "\n",
       "    .dataframe thead th {\n",
       "        text-align: right;\n",
       "    }\n",
       "</style>\n",
       "<table border=\"1\" class=\"dataframe\">\n",
       "  <thead>\n",
       "    <tr style=\"text-align: right;\">\n",
       "      <th></th>\n",
       "      <th></th>\n",
       "      <th>Income</th>\n",
       "      <th>MntWines</th>\n",
       "      <th>MntGoldProds</th>\n",
       "    </tr>\n",
       "    <tr>\n",
       "      <th>Country</th>\n",
       "      <th>Education</th>\n",
       "      <th></th>\n",
       "      <th></th>\n",
       "      <th></th>\n",
       "    </tr>\n",
       "  </thead>\n",
       "  <tbody>\n",
       "    <tr>\n",
       "      <th rowspan=\"5\" valign=\"top\">AUS</th>\n",
       "      <th>2n Cycle</th>\n",
       "      <td>34886.928571</td>\n",
       "      <td>18.285714</td>\n",
       "      <td>27.000000</td>\n",
       "    </tr>\n",
       "    <tr>\n",
       "      <th>Basic</th>\n",
       "      <td>21158.500000</td>\n",
       "      <td>1.250000</td>\n",
       "      <td>22.000000</td>\n",
       "    </tr>\n",
       "    <tr>\n",
       "      <th>Graduation</th>\n",
       "      <td>42796.849057</td>\n",
       "      <td>136.245283</td>\n",
       "      <td>24.132075</td>\n",
       "    </tr>\n",
       "    <tr>\n",
       "      <th>Master</th>\n",
       "      <td>42626.552632</td>\n",
       "      <td>175.578947</td>\n",
       "      <td>22.105263</td>\n",
       "    </tr>\n",
       "    <tr>\n",
       "      <th>PhD</th>\n",
       "      <td>43652.305556</td>\n",
       "      <td>99.277778</td>\n",
       "      <td>20.722222</td>\n",
       "    </tr>\n",
       "    <tr>\n",
       "      <th rowspan=\"5\" valign=\"top\">CA</th>\n",
       "      <th>2n Cycle</th>\n",
       "      <td>34119.615385</td>\n",
       "      <td>37.230769</td>\n",
       "      <td>20.461538</td>\n",
       "    </tr>\n",
       "    <tr>\n",
       "      <th>Basic</th>\n",
       "      <td>19648.000000</td>\n",
       "      <td>1.857143</td>\n",
       "      <td>18.000000</td>\n",
       "    </tr>\n",
       "    <tr>\n",
       "      <th>Graduation</th>\n",
       "      <td>38557.282895</td>\n",
       "      <td>98.631579</td>\n",
       "      <td>20.605263</td>\n",
       "    </tr>\n",
       "    <tr>\n",
       "      <th>Master</th>\n",
       "      <td>45012.310345</td>\n",
       "      <td>176.344828</td>\n",
       "      <td>20.034483</td>\n",
       "    </tr>\n",
       "    <tr>\n",
       "      <th>PhD</th>\n",
       "      <td>49107.564516</td>\n",
       "      <td>247.548387</td>\n",
       "      <td>15.709677</td>\n",
       "    </tr>\n",
       "    <tr>\n",
       "      <th rowspan=\"5\" valign=\"top\">GER</th>\n",
       "      <th>2n Cycle</th>\n",
       "      <td>32805.035714</td>\n",
       "      <td>39.500000</td>\n",
       "      <td>18.142857</td>\n",
       "    </tr>\n",
       "    <tr>\n",
       "      <th>Basic</th>\n",
       "      <td>17306.500000</td>\n",
       "      <td>3.000000</td>\n",
       "      <td>22.000000</td>\n",
       "    </tr>\n",
       "    <tr>\n",
       "      <th>Graduation</th>\n",
       "      <td>44596.106061</td>\n",
       "      <td>126.909091</td>\n",
       "      <td>29.424242</td>\n",
       "    </tr>\n",
       "    <tr>\n",
       "      <th>Master</th>\n",
       "      <td>43818.692308</td>\n",
       "      <td>87.923077</td>\n",
       "      <td>29.153846</td>\n",
       "    </tr>\n",
       "    <tr>\n",
       "      <th>PhD</th>\n",
       "      <td>48157.500000</td>\n",
       "      <td>293.500000</td>\n",
       "      <td>13.200000</td>\n",
       "    </tr>\n",
       "    <tr>\n",
       "      <th rowspan=\"5\" valign=\"top\">IND</th>\n",
       "      <th>2n Cycle</th>\n",
       "      <td>33048.000000</td>\n",
       "      <td>76.636364</td>\n",
       "      <td>30.000000</td>\n",
       "    </tr>\n",
       "    <tr>\n",
       "      <th>Basic</th>\n",
       "      <td>21058.500000</td>\n",
       "      <td>2.500000</td>\n",
       "      <td>26.500000</td>\n",
       "    </tr>\n",
       "    <tr>\n",
       "      <th>Graduation</th>\n",
       "      <td>37045.250000</td>\n",
       "      <td>96.884615</td>\n",
       "      <td>25.826923</td>\n",
       "    </tr>\n",
       "    <tr>\n",
       "      <th>Master</th>\n",
       "      <td>39155.666667</td>\n",
       "      <td>121.083333</td>\n",
       "      <td>20.500000</td>\n",
       "    </tr>\n",
       "    <tr>\n",
       "      <th>PhD</th>\n",
       "      <td>48472.571429</td>\n",
       "      <td>203.500000</td>\n",
       "      <td>14.428571</td>\n",
       "    </tr>\n",
       "    <tr>\n",
       "      <th>ME</th>\n",
       "      <th>PhD</th>\n",
       "      <td>52614.000000</td>\n",
       "      <td>789.000000</td>\n",
       "      <td>38.000000</td>\n",
       "    </tr>\n",
       "    <tr>\n",
       "      <th rowspan=\"5\" valign=\"top\">SA</th>\n",
       "      <th>2n Cycle</th>\n",
       "      <td>38855.812500</td>\n",
       "      <td>112.875000</td>\n",
       "      <td>19.125000</td>\n",
       "    </tr>\n",
       "    <tr>\n",
       "      <th>Basic</th>\n",
       "      <td>21669.166667</td>\n",
       "      <td>2.500000</td>\n",
       "      <td>12.833333</td>\n",
       "    </tr>\n",
       "    <tr>\n",
       "      <th>Graduation</th>\n",
       "      <td>37191.653333</td>\n",
       "      <td>71.773333</td>\n",
       "      <td>21.186667</td>\n",
       "    </tr>\n",
       "    <tr>\n",
       "      <th>Master</th>\n",
       "      <td>43341.500000</td>\n",
       "      <td>181.142857</td>\n",
       "      <td>22.714286</td>\n",
       "    </tr>\n",
       "    <tr>\n",
       "      <th>PhD</th>\n",
       "      <td>45281.083333</td>\n",
       "      <td>171.645833</td>\n",
       "      <td>16.854167</td>\n",
       "    </tr>\n",
       "    <tr>\n",
       "      <th rowspan=\"5\" valign=\"top\">SP</th>\n",
       "      <th>2n Cycle</th>\n",
       "      <td>34013.033898</td>\n",
       "      <td>39.694915</td>\n",
       "      <td>18.169492</td>\n",
       "    </tr>\n",
       "    <tr>\n",
       "      <th>Basic</th>\n",
       "      <td>20239.384615</td>\n",
       "      <td>3.576923</td>\n",
       "      <td>21.923077</td>\n",
       "    </tr>\n",
       "    <tr>\n",
       "      <th>Graduation</th>\n",
       "      <td>38552.678797</td>\n",
       "      <td>106.680380</td>\n",
       "      <td>21.439873</td>\n",
       "    </tr>\n",
       "    <tr>\n",
       "      <th>Master</th>\n",
       "      <td>42037.794393</td>\n",
       "      <td>142.242991</td>\n",
       "      <td>22.887850</td>\n",
       "    </tr>\n",
       "    <tr>\n",
       "      <th>PhD</th>\n",
       "      <td>44967.285714</td>\n",
       "      <td>179.493506</td>\n",
       "      <td>17.331169</td>\n",
       "    </tr>\n",
       "    <tr>\n",
       "      <th rowspan=\"5\" valign=\"top\">US</th>\n",
       "      <th>2n Cycle</th>\n",
       "      <td>45020.250000</td>\n",
       "      <td>200.500000</td>\n",
       "      <td>20.250000</td>\n",
       "    </tr>\n",
       "    <tr>\n",
       "      <th>Basic</th>\n",
       "      <td>12613.333333</td>\n",
       "      <td>4.666667</td>\n",
       "      <td>16.000000</td>\n",
       "    </tr>\n",
       "    <tr>\n",
       "      <th>Graduation</th>\n",
       "      <td>45487.785714</td>\n",
       "      <td>146.228571</td>\n",
       "      <td>27.342857</td>\n",
       "    </tr>\n",
       "    <tr>\n",
       "      <th>Master</th>\n",
       "      <td>47791.730769</td>\n",
       "      <td>142.076923</td>\n",
       "      <td>19.076923</td>\n",
       "    </tr>\n",
       "    <tr>\n",
       "      <th>PhD</th>\n",
       "      <td>48436.444444</td>\n",
       "      <td>292.666667</td>\n",
       "      <td>11.444444</td>\n",
       "    </tr>\n",
       "  </tbody>\n",
       "</table>\n",
       "</div>"
      ],
      "text/plain": [
       "                          Income    MntWines  MntGoldProds\n",
       "Country Education                                         \n",
       "AUS     2n Cycle    34886.928571   18.285714     27.000000\n",
       "        Basic       21158.500000    1.250000     22.000000\n",
       "        Graduation  42796.849057  136.245283     24.132075\n",
       "        Master      42626.552632  175.578947     22.105263\n",
       "        PhD         43652.305556   99.277778     20.722222\n",
       "CA      2n Cycle    34119.615385   37.230769     20.461538\n",
       "        Basic       19648.000000    1.857143     18.000000\n",
       "        Graduation  38557.282895   98.631579     20.605263\n",
       "        Master      45012.310345  176.344828     20.034483\n",
       "        PhD         49107.564516  247.548387     15.709677\n",
       "GER     2n Cycle    32805.035714   39.500000     18.142857\n",
       "        Basic       17306.500000    3.000000     22.000000\n",
       "        Graduation  44596.106061  126.909091     29.424242\n",
       "        Master      43818.692308   87.923077     29.153846\n",
       "        PhD         48157.500000  293.500000     13.200000\n",
       "IND     2n Cycle    33048.000000   76.636364     30.000000\n",
       "        Basic       21058.500000    2.500000     26.500000\n",
       "        Graduation  37045.250000   96.884615     25.826923\n",
       "        Master      39155.666667  121.083333     20.500000\n",
       "        PhD         48472.571429  203.500000     14.428571\n",
       "ME      PhD         52614.000000  789.000000     38.000000\n",
       "SA      2n Cycle    38855.812500  112.875000     19.125000\n",
       "        Basic       21669.166667    2.500000     12.833333\n",
       "        Graduation  37191.653333   71.773333     21.186667\n",
       "        Master      43341.500000  181.142857     22.714286\n",
       "        PhD         45281.083333  171.645833     16.854167\n",
       "SP      2n Cycle    34013.033898   39.694915     18.169492\n",
       "        Basic       20239.384615    3.576923     21.923077\n",
       "        Graduation  38552.678797  106.680380     21.439873\n",
       "        Master      42037.794393  142.242991     22.887850\n",
       "        PhD         44967.285714  179.493506     17.331169\n",
       "US      2n Cycle    45020.250000  200.500000     20.250000\n",
       "        Basic       12613.333333    4.666667     16.000000\n",
       "        Graduation  45487.785714  146.228571     27.342857\n",
       "        Master      47791.730769  142.076923     19.076923\n",
       "        PhD         48436.444444  292.666667     11.444444"
      ]
     },
     "execution_count": 44,
     "metadata": {},
     "output_type": "execute_result"
    }
   ],
   "source": [
    "df.groupby(['Country','Education']).aggregate({'Income': 'mean','MntWines': 'mean','MntGoldProds': 'mean'})"
   ]
  },
  {
   "cell_type": "code",
   "execution_count": 45,
   "id": "c249ddfc",
   "metadata": {},
   "outputs": [
    {
     "data": {
      "text/html": [
       "<div>\n",
       "<style scoped>\n",
       "    .dataframe tbody tr th:only-of-type {\n",
       "        vertical-align: middle;\n",
       "    }\n",
       "\n",
       "    .dataframe tbody tr th {\n",
       "        vertical-align: top;\n",
       "    }\n",
       "\n",
       "    .dataframe thead th {\n",
       "        text-align: right;\n",
       "    }\n",
       "</style>\n",
       "<table border=\"1\" class=\"dataframe\">\n",
       "  <thead>\n",
       "    <tr style=\"text-align: right;\">\n",
       "      <th></th>\n",
       "      <th></th>\n",
       "      <th>Income</th>\n",
       "      <th>MntWines</th>\n",
       "      <th>MntGoldProds</th>\n",
       "    </tr>\n",
       "    <tr>\n",
       "      <th>Country</th>\n",
       "      <th>Marital_Status</th>\n",
       "      <th></th>\n",
       "      <th></th>\n",
       "      <th></th>\n",
       "    </tr>\n",
       "  </thead>\n",
       "  <tbody>\n",
       "    <tr>\n",
       "      <th rowspan=\"5\" valign=\"top\">AUS</th>\n",
       "      <th>Divorced</th>\n",
       "      <td>43077.333333</td>\n",
       "      <td>197.500000</td>\n",
       "      <td>21.666667</td>\n",
       "    </tr>\n",
       "    <tr>\n",
       "      <th>Married</th>\n",
       "      <td>38279.671053</td>\n",
       "      <td>148.342105</td>\n",
       "      <td>25.184211</td>\n",
       "    </tr>\n",
       "    <tr>\n",
       "      <th>Single</th>\n",
       "      <td>44888.972222</td>\n",
       "      <td>88.222222</td>\n",
       "      <td>29.111111</td>\n",
       "    </tr>\n",
       "    <tr>\n",
       "      <th>Together</th>\n",
       "      <td>41911.948276</td>\n",
       "      <td>70.103448</td>\n",
       "      <td>19.068966</td>\n",
       "    </tr>\n",
       "    <tr>\n",
       "      <th>Widow</th>\n",
       "      <td>49429.500000</td>\n",
       "      <td>212.250000</td>\n",
       "      <td>13.750000</td>\n",
       "    </tr>\n",
       "    <tr>\n",
       "      <th rowspan=\"7\" valign=\"top\">CA</th>\n",
       "      <th>Alone</th>\n",
       "      <td>35018.000000</td>\n",
       "      <td>10.000000</td>\n",
       "      <td>20.000000</td>\n",
       "    </tr>\n",
       "    <tr>\n",
       "      <th>Divorced</th>\n",
       "      <td>39460.473684</td>\n",
       "      <td>106.473684</td>\n",
       "      <td>14.684211</td>\n",
       "    </tr>\n",
       "    <tr>\n",
       "      <th>Married</th>\n",
       "      <td>40917.200000</td>\n",
       "      <td>151.850000</td>\n",
       "      <td>19.466667</td>\n",
       "    </tr>\n",
       "    <tr>\n",
       "      <th>Single</th>\n",
       "      <td>40489.250000</td>\n",
       "      <td>97.968750</td>\n",
       "      <td>18.156250</td>\n",
       "    </tr>\n",
       "    <tr>\n",
       "      <th>Together</th>\n",
       "      <td>40189.500000</td>\n",
       "      <td>140.394737</td>\n",
       "      <td>21.684211</td>\n",
       "    </tr>\n",
       "    <tr>\n",
       "      <th>Widow</th>\n",
       "      <td>48257.500000</td>\n",
       "      <td>208.750000</td>\n",
       "      <td>23.000000</td>\n",
       "    </tr>\n",
       "    <tr>\n",
       "      <th>YOLO</th>\n",
       "      <td>48432.000000</td>\n",
       "      <td>322.000000</td>\n",
       "      <td>42.000000</td>\n",
       "    </tr>\n",
       "    <tr>\n",
       "      <th rowspan=\"5\" valign=\"top\">GER</th>\n",
       "      <th>Divorced</th>\n",
       "      <td>48207.600000</td>\n",
       "      <td>59.200000</td>\n",
       "      <td>29.400000</td>\n",
       "    </tr>\n",
       "    <tr>\n",
       "      <th>Married</th>\n",
       "      <td>39412.038462</td>\n",
       "      <td>121.820513</td>\n",
       "      <td>24.358974</td>\n",
       "    </tr>\n",
       "    <tr>\n",
       "      <th>Single</th>\n",
       "      <td>43554.055556</td>\n",
       "      <td>75.777778</td>\n",
       "      <td>14.666667</td>\n",
       "    </tr>\n",
       "    <tr>\n",
       "      <th>Together</th>\n",
       "      <td>43558.117647</td>\n",
       "      <td>141.294118</td>\n",
       "      <td>24.235294</td>\n",
       "    </tr>\n",
       "    <tr>\n",
       "      <th>Widow</th>\n",
       "      <td>53095.500000</td>\n",
       "      <td>347.000000</td>\n",
       "      <td>69.500000</td>\n",
       "    </tr>\n",
       "    <tr>\n",
       "      <th rowspan=\"6\" valign=\"top\">IND</th>\n",
       "      <th>Divorced</th>\n",
       "      <td>49737.666667</td>\n",
       "      <td>274.833333</td>\n",
       "      <td>18.833333</td>\n",
       "    </tr>\n",
       "    <tr>\n",
       "      <th>Married</th>\n",
       "      <td>36898.875000</td>\n",
       "      <td>106.875000</td>\n",
       "      <td>16.656250</td>\n",
       "    </tr>\n",
       "    <tr>\n",
       "      <th>Single</th>\n",
       "      <td>38173.960000</td>\n",
       "      <td>110.040000</td>\n",
       "      <td>33.560000</td>\n",
       "    </tr>\n",
       "    <tr>\n",
       "      <th>Together</th>\n",
       "      <td>34806.964286</td>\n",
       "      <td>62.785714</td>\n",
       "      <td>22.678571</td>\n",
       "    </tr>\n",
       "    <tr>\n",
       "      <th>Widow</th>\n",
       "      <td>66033.000000</td>\n",
       "      <td>293.000000</td>\n",
       "      <td>65.000000</td>\n",
       "    </tr>\n",
       "    <tr>\n",
       "      <th>YOLO</th>\n",
       "      <td>48432.000000</td>\n",
       "      <td>322.000000</td>\n",
       "      <td>42.000000</td>\n",
       "    </tr>\n",
       "    <tr>\n",
       "      <th>ME</th>\n",
       "      <th>Single</th>\n",
       "      <td>52614.000000</td>\n",
       "      <td>789.000000</td>\n",
       "      <td>38.000000</td>\n",
       "    </tr>\n",
       "    <tr>\n",
       "      <th rowspan=\"5\" valign=\"top\">SA</th>\n",
       "      <th>Divorced</th>\n",
       "      <td>42214.869565</td>\n",
       "      <td>180.043478</td>\n",
       "      <td>26.217391</td>\n",
       "    </tr>\n",
       "    <tr>\n",
       "      <th>Married</th>\n",
       "      <td>40815.754098</td>\n",
       "      <td>125.491803</td>\n",
       "      <td>16.901639</td>\n",
       "    </tr>\n",
       "    <tr>\n",
       "      <th>Single</th>\n",
       "      <td>38003.971429</td>\n",
       "      <td>110.971429</td>\n",
       "      <td>19.971429</td>\n",
       "    </tr>\n",
       "    <tr>\n",
       "      <th>Together</th>\n",
       "      <td>40208.516667</td>\n",
       "      <td>113.833333</td>\n",
       "      <td>20.016667</td>\n",
       "    </tr>\n",
       "    <tr>\n",
       "      <th>Widow</th>\n",
       "      <td>41445.500000</td>\n",
       "      <td>67.625000</td>\n",
       "      <td>25.125000</td>\n",
       "    </tr>\n",
       "    <tr>\n",
       "      <th rowspan=\"5\" valign=\"top\">SP</th>\n",
       "      <th>Divorced</th>\n",
       "      <td>38473.311475</td>\n",
       "      <td>116.868852</td>\n",
       "      <td>17.081967</td>\n",
       "    </tr>\n",
       "    <tr>\n",
       "      <th>Married</th>\n",
       "      <td>40672.166667</td>\n",
       "      <td>128.711111</td>\n",
       "      <td>20.611111</td>\n",
       "    </tr>\n",
       "    <tr>\n",
       "      <th>Single</th>\n",
       "      <td>36431.620805</td>\n",
       "      <td>93.228188</td>\n",
       "      <td>19.657718</td>\n",
       "    </tr>\n",
       "    <tr>\n",
       "      <th>Together</th>\n",
       "      <td>40044.666667</td>\n",
       "      <td>127.716049</td>\n",
       "      <td>22.098765</td>\n",
       "    </tr>\n",
       "    <tr>\n",
       "      <th>Widow</th>\n",
       "      <td>44737.050000</td>\n",
       "      <td>127.300000</td>\n",
       "      <td>20.950000</td>\n",
       "    </tr>\n",
       "    <tr>\n",
       "      <th rowspan=\"5\" valign=\"top\">US</th>\n",
       "      <th>Divorced</th>\n",
       "      <td>55304.750000</td>\n",
       "      <td>325.625000</td>\n",
       "      <td>18.625000</td>\n",
       "    </tr>\n",
       "    <tr>\n",
       "      <th>Married</th>\n",
       "      <td>40026.282609</td>\n",
       "      <td>102.260870</td>\n",
       "      <td>15.391304</td>\n",
       "    </tr>\n",
       "    <tr>\n",
       "      <th>Single</th>\n",
       "      <td>42624.222222</td>\n",
       "      <td>143.888889</td>\n",
       "      <td>27.444444</td>\n",
       "    </tr>\n",
       "    <tr>\n",
       "      <th>Together</th>\n",
       "      <td>47157.346154</td>\n",
       "      <td>175.000000</td>\n",
       "      <td>28.769231</td>\n",
       "    </tr>\n",
       "    <tr>\n",
       "      <th>Widow</th>\n",
       "      <td>61945.000000</td>\n",
       "      <td>296.500000</td>\n",
       "      <td>33.000000</td>\n",
       "    </tr>\n",
       "  </tbody>\n",
       "</table>\n",
       "</div>"
      ],
      "text/plain": [
       "                              Income    MntWines  MntGoldProds\n",
       "Country Marital_Status                                        \n",
       "AUS     Divorced        43077.333333  197.500000     21.666667\n",
       "        Married         38279.671053  148.342105     25.184211\n",
       "        Single          44888.972222   88.222222     29.111111\n",
       "        Together        41911.948276   70.103448     19.068966\n",
       "        Widow           49429.500000  212.250000     13.750000\n",
       "CA      Alone           35018.000000   10.000000     20.000000\n",
       "        Divorced        39460.473684  106.473684     14.684211\n",
       "        Married         40917.200000  151.850000     19.466667\n",
       "        Single          40489.250000   97.968750     18.156250\n",
       "        Together        40189.500000  140.394737     21.684211\n",
       "        Widow           48257.500000  208.750000     23.000000\n",
       "        YOLO            48432.000000  322.000000     42.000000\n",
       "GER     Divorced        48207.600000   59.200000     29.400000\n",
       "        Married         39412.038462  121.820513     24.358974\n",
       "        Single          43554.055556   75.777778     14.666667\n",
       "        Together        43558.117647  141.294118     24.235294\n",
       "        Widow           53095.500000  347.000000     69.500000\n",
       "IND     Divorced        49737.666667  274.833333     18.833333\n",
       "        Married         36898.875000  106.875000     16.656250\n",
       "        Single          38173.960000  110.040000     33.560000\n",
       "        Together        34806.964286   62.785714     22.678571\n",
       "        Widow           66033.000000  293.000000     65.000000\n",
       "        YOLO            48432.000000  322.000000     42.000000\n",
       "ME      Single          52614.000000  789.000000     38.000000\n",
       "SA      Divorced        42214.869565  180.043478     26.217391\n",
       "        Married         40815.754098  125.491803     16.901639\n",
       "        Single          38003.971429  110.971429     19.971429\n",
       "        Together        40208.516667  113.833333     20.016667\n",
       "        Widow           41445.500000   67.625000     25.125000\n",
       "SP      Divorced        38473.311475  116.868852     17.081967\n",
       "        Married         40672.166667  128.711111     20.611111\n",
       "        Single          36431.620805   93.228188     19.657718\n",
       "        Together        40044.666667  127.716049     22.098765\n",
       "        Widow           44737.050000  127.300000     20.950000\n",
       "US      Divorced        55304.750000  325.625000     18.625000\n",
       "        Married         40026.282609  102.260870     15.391304\n",
       "        Single          42624.222222  143.888889     27.444444\n",
       "        Together        47157.346154  175.000000     28.769231\n",
       "        Widow           61945.000000  296.500000     33.000000"
      ]
     },
     "execution_count": 45,
     "metadata": {},
     "output_type": "execute_result"
    }
   ],
   "source": [
    "df.groupby(['Country','Marital_Status']).aggregate({'Income': 'mean','MntWines': 'mean','MntGoldProds': 'mean'})"
   ]
  },
  {
   "cell_type": "markdown",
   "id": "079f3248",
   "metadata": {},
   "source": [
    "#### Выводы относительно полученных данных: Самые высокие доходы у PhD по всем странам. Можно сказать, что образование играет важную роль в доходе граждан. \n",
    "\n",
    "#### Также стоит отметить, что чаще всего именно люди с образованием PhD тратят больше всего на вино, кроме исключений в виде стран: SA, AUS. \n",
    "\n",
    "#### Если говорить про траты на товары роскоши (MntGoldProducts), можно сделать вывод, что чем выше образование, тем меньше человек тратит на роскошь. \n",
    "\n",
    "#### Также стоит отметить, что зачастую вдовы тратят больше всех на вино"
   ]
  },
  {
   "cell_type": "markdown",
   "id": "c8f30646",
   "metadata": {},
   "source": [
    "## Задание 5 (1 балл): корреляции"
   ]
  },
  {
   "cell_type": "markdown",
   "id": "d5e4be43",
   "metadata": {},
   "source": [
    "Найдите три самых сильных линейных взаимосвязи.Опишите, между какими признаками вы их нашли и содержательно проинтерпретируйте, почему (с вашей точки зрения) эти показатели связаны. \n",
    "\n",
    "_важно: необходимо вывести именно с помощью кода 3 пары самых сильно скоррелированных признака, а не искать их глазами в матрице корреляций_"
   ]
  },
  {
   "cell_type": "markdown",
   "id": "faaae229",
   "metadata": {},
   "source": [
    "### Тут я нашел способ вывести максимальные и минимальные корреляции признаков друг с другом. Данный код подсказал один из пользователей на Stackoverflow. Ссылка: https://stackoverflow.com/questions/17778394/list-highest-correlation-pairs-from-a-large-correlation-matrix-in-pandas"
   ]
  },
  {
   "cell_type": "code",
   "execution_count": 51,
   "id": "b7bc0db3",
   "metadata": {},
   "outputs": [
    {
     "data": {
      "text/plain": [
       "Teenhome      Year_Birth            -0.517323\n",
       "Kidhome       NumStorePurchases     -0.485316\n",
       "Income        NumWebVisitsMonth     -0.444444\n",
       "MntWines      Kidhome               -0.424136\n",
       "Kidhome       NumCatalogPurchases   -0.423823\n",
       "                                       ...   \n",
       "SumPurchases  NumCatalogPurchases    0.750506\n",
       "MntWines      SumPurchases           0.756814\n",
       "SumPurchases  NumStorePurchases      0.858238\n",
       "              NumWebPurchases        0.887353\n",
       "ID            ID                     1.000000\n",
       "Length: 326, dtype: float64"
      ]
     },
     "execution_count": 51,
     "metadata": {},
     "output_type": "execute_result"
    }
   ],
   "source": [
    "df.corr().unstack().sort_values().drop_duplicates()"
   ]
  },
  {
   "cell_type": "markdown",
   "id": "7c221edc",
   "metadata": {},
   "source": [
    "### Как видим, наибольшая корреляция у признаков: NumCatalogPurchases и MntMeatProducts, NumCatalogPurchases и MntWines, NumStorePurchases и MntWines. Корреляцию признаков NumWebPurchases и MntWines мы не берем, так как это 4 по силе корреляция, а нам согласно заданию необходимо выделить 3 самых сильных. "
   ]
  },
  {
   "cell_type": "markdown",
   "id": "7fceeb03",
   "metadata": {},
   "source": [
    "### Почему же они взаимосвязаны? Можно сказать, что возможно вино чаще всего выбирают через каталоги и в магазинах по той причине, потому что в каталоге можно сравнить позиции и выбрать то, что подходит тебе. Также в магазине проще всего выбрать вино, так как весь ассортимент располагается перед тобой, можно сравнить позиции между собой и послушать их. Также в магазине тебе может помочь консультант. Если говорить про MntMeatProducts и NumCatalogPurchases, можно сказать, что есть возможность выбора."
   ]
  },
  {
   "cell_type": "markdown",
   "id": "6533d54b",
   "metadata": {},
   "source": [
    "## Задание 6 (2 балла) : визуализации"
   ]
  },
  {
   "cell_type": "markdown",
   "id": "0212ace5",
   "metadata": {},
   "source": [
    "Придумайте и постройте как минимум 6 содержательных визуализаций, которые будут иллюстрировать те или иные выводы, которые вы сделали на основе данных. К каждой визуализации должна прилагаться содержательная текстовая интерпретация. Каждая визуализация должна быть грамотно оформлена, с соблюдением всем правил. Необходимо задействовать не менее 4 типов диаграмм. "
   ]
  },
  {
   "cell_type": "markdown",
   "id": "deb22e53",
   "metadata": {},
   "source": [
    "#### Построим линейный график, который отражает отношение количества покупаемого сладкого и количества детей в семье:"
   ]
  },
  {
   "cell_type": "code",
   "execution_count": 53,
   "id": "c64d9be3",
   "metadata": {},
   "outputs": [
    {
     "data": {
      "image/png": "[encoded data removed]",
      "text/plain": [
       "<Figure size 432x288 with 1 Axes>"
      ]
     },
     "metadata": {},
     "output_type": "display_data"
    }
   ],
   "source": [
    "pilp = df.groupby('SumKidsHome').MntSweetProducts.sum()\n",
    "plt.plot(pilp.index, pilp.values);"
   ]
  },
  {
   "cell_type": "markdown",
   "id": "a494b6fa",
   "metadata": {},
   "source": [
    "#### Как видим, с увеличением количества детей, уменьшается количество покупок сладкого"
   ]
  },
  {
   "cell_type": "markdown",
   "id": "f0b43dce",
   "metadata": {},
   "source": [
    "#### Теперь построим столбчатую диаграмму, которая отобразит количество покупок по отношению к образованию:"
   ]
  },
  {
   "cell_type": "code",
   "execution_count": 65,
   "id": "35ab6868",
   "metadata": {},
   "outputs": [
    {
     "data": {
      "image/png": "[encoded data removed]",
      "text/plain": [
       "<Figure size 432x288 with 1 Axes>"
      ]
     },
     "metadata": {},
     "output_type": "display_data"
    }
   ],
   "source": [
    "df.groupby('Education').SumPurchases.count().plot(kind='bar');"
   ]
  },
  {
   "cell_type": "markdown",
   "id": "b57b3be8",
   "metadata": {},
   "source": [
    "#### Теперь отобразим зависимость количества детей в семье и количества трат на фрукты:"
   ]
  },
  {
   "cell_type": "code",
   "execution_count": 117,
   "id": "e35c43dd",
   "metadata": {},
   "outputs": [
    {
     "data": {
      "text/plain": [
       "<seaborn.axisgrid.FacetGrid at 0x7f906b39e8b0>"
      ]
     },
     "execution_count": 117,
     "metadata": {},
     "output_type": "execute_result"
    },
    {
     "data": {
      "image/png": "[encoded data removed]",
      "text/plain": [
       "<Figure size 360x360 with 1 Axes>"
      ]
     },
     "metadata": {},
     "output_type": "display_data"
    }
   ],
   "source": [
    "sns.set_theme()\n",
    "\n",
    "sns.relplot(\n",
    "    data=df,\n",
    "    x=\"SumKidsHome\", y=\"MntFruits\",\n",
    ")"
   ]
  },
  {
   "cell_type": "markdown",
   "id": "85a6eb66",
   "metadata": {},
   "source": [
    "### Отобразим корреляционную матрицу при помощи HeatMap. Данный способ нашел на сайте: https://seaborn.pydata.org/generated/seaborn.heatmap.html\n",
    "\n",
    "### Отрицательные значения я решил выделить черным цветом. \n",
    "\n",
    "### Цветные области показывают нам корреляцию между признаками. Чем светлее область, тем выше корреляция. "
   ]
  },
  {
   "cell_type": "code",
   "execution_count": 119,
   "id": "61cbcd26",
   "metadata": {},
   "outputs": [
    {
     "data": {
      "text/plain": [
       "<AxesSubplot:>"
      ]
     },
     "execution_count": 119,
     "metadata": {},
     "output_type": "execute_result"
    },
    {
     "data": {
      "image/png": "[encoded data removed]",
      "text/plain": [
       "<Figure size 1440x1440 with 2 Axes>"
      ]
     },
     "metadata": {},
     "output_type": "display_data"
    }
   ],
   "source": [
    "corr_matrix = df.corr()\n",
    "\n",
    "\n",
    "plt.figure(figsize= (20, 20))\n",
    "sns.heatmap(corr_matrix, vmin = .0, annot = True)"
   ]
  },
  {
   "cell_type": "markdown",
   "id": "1df19cb2",
   "metadata": {},
   "source": [
    "### Теперь сравним количество потраченных денег на вино и семейным положением. Для начала уберем значения YOLO"
   ]
  },
  {
   "cell_type": "code",
   "execution_count": 141,
   "id": "9b8df9fb",
   "metadata": {},
   "outputs": [
    {
     "data": {
      "text/html": [
       "<div>\n",
       "<style scoped>\n",
       "    .dataframe tbody tr th:only-of-type {\n",
       "        vertical-align: middle;\n",
       "    }\n",
       "\n",
       "    .dataframe tbody tr th {\n",
       "        vertical-align: top;\n",
       "    }\n",
       "\n",
       "    .dataframe thead th {\n",
       "        text-align: right;\n",
       "    }\n",
       "</style>\n",
       "<table border=\"1\" class=\"dataframe\">\n",
       "  <thead>\n",
       "    <tr style=\"text-align: right;\">\n",
       "      <th></th>\n",
       "      <th>ID</th>\n",
       "      <th>Year_Birth</th>\n",
       "      <th>Education</th>\n",
       "      <th>Marital_Status</th>\n",
       "      <th>Income</th>\n",
       "      <th>Kidhome</th>\n",
       "      <th>Teenhome</th>\n",
       "      <th>Dt_Customer</th>\n",
       "      <th>Recency</th>\n",
       "      <th>MntWines</th>\n",
       "      <th>...</th>\n",
       "      <th>NumWebVisitsMonth</th>\n",
       "      <th>AcceptedCmp3</th>\n",
       "      <th>AcceptedCmp4</th>\n",
       "      <th>AcceptedCmp5</th>\n",
       "      <th>AcceptedCmp1</th>\n",
       "      <th>AcceptedCmp2</th>\n",
       "      <th>Response</th>\n",
       "      <th>Complain</th>\n",
       "      <th>Country</th>\n",
       "      <th>SumKidsHome</th>\n",
       "    </tr>\n",
       "  </thead>\n",
       "  <tbody>\n",
       "    <tr>\n",
       "      <th>103</th>\n",
       "      <td>492</td>\n",
       "      <td>1973.0</td>\n",
       "      <td>PhD</td>\n",
       "      <td>YOLO</td>\n",
       "      <td>48432.0</td>\n",
       "      <td>0</td>\n",
       "      <td>1</td>\n",
       "      <td>2012-10-18</td>\n",
       "      <td>3</td>\n",
       "      <td>322.0</td>\n",
       "      <td>...</td>\n",
       "      <td>8.0</td>\n",
       "      <td>0</td>\n",
       "      <td>0</td>\n",
       "      <td>0</td>\n",
       "      <td>0</td>\n",
       "      <td>0</td>\n",
       "      <td>0</td>\n",
       "      <td>0</td>\n",
       "      <td>CA</td>\n",
       "      <td>1</td>\n",
       "    </tr>\n",
       "    <tr>\n",
       "      <th>104</th>\n",
       "      <td>11133</td>\n",
       "      <td>1973.0</td>\n",
       "      <td>PhD</td>\n",
       "      <td>YOLO</td>\n",
       "      <td>48432.0</td>\n",
       "      <td>0</td>\n",
       "      <td>1</td>\n",
       "      <td>2012-10-18</td>\n",
       "      <td>3</td>\n",
       "      <td>322.0</td>\n",
       "      <td>...</td>\n",
       "      <td>8.0</td>\n",
       "      <td>0</td>\n",
       "      <td>0</td>\n",
       "      <td>0</td>\n",
       "      <td>0</td>\n",
       "      <td>0</td>\n",
       "      <td>1</td>\n",
       "      <td>0</td>\n",
       "      <td>IND</td>\n",
       "      <td>1</td>\n",
       "    </tr>\n",
       "  </tbody>\n",
       "</table>\n",
       "<p>2 rows × 29 columns</p>\n",
       "</div>"
      ],
      "text/plain": [
       "        ID  Year_Birth Education Marital_Status   Income  Kidhome  Teenhome  \\\n",
       "103    492      1973.0       PhD           YOLO  48432.0        0         1   \n",
       "104  11133      1973.0       PhD           YOLO  48432.0        0         1   \n",
       "\n",
       "    Dt_Customer  Recency  MntWines  ...  NumWebVisitsMonth  AcceptedCmp3  \\\n",
       "103  2012-10-18        3     322.0  ...                8.0             0   \n",
       "104  2012-10-18        3     322.0  ...                8.0             0   \n",
       "\n",
       "     AcceptedCmp4  AcceptedCmp5  AcceptedCmp1  AcceptedCmp2  Response  \\\n",
       "103             0             0             0             0         0   \n",
       "104             0             0             0             0         1   \n",
       "\n",
       "     Complain  Country  SumKidsHome  \n",
       "103         0       CA            1  \n",
       "104         0      IND            1  \n",
       "\n",
       "[2 rows x 29 columns]"
      ]
     },
     "execution_count": 141,
     "metadata": {},
     "output_type": "execute_result"
    }
   ],
   "source": [
    "df[df.Marital_Status == 'YOLO']"
   ]
  },
  {
   "cell_type": "code",
   "execution_count": 142,
   "id": "30a8e753",
   "metadata": {},
   "outputs": [],
   "source": [
    "df = df.drop(labels = [103,104], axis = 0)"
   ]
  },
  {
   "cell_type": "markdown",
   "id": "e343773b",
   "metadata": {},
   "source": [
    "### Теперь построим Barplot и визульно покажем разницу:"
   ]
  },
  {
   "cell_type": "code",
   "execution_count": 143,
   "id": "280cb696",
   "metadata": {},
   "outputs": [
    {
     "data": {
      "text/plain": [
       "<AxesSubplot:xlabel='Marital_Status', ylabel='MntWines'>"
      ]
     },
     "execution_count": 143,
     "metadata": {},
     "output_type": "execute_result"
    },
    {
     "data": {
      "image/png": "[encoded data removed]",
      "text/plain": [
       "<Figure size 432x288 with 1 Axes>"
      ]
     },
     "metadata": {},
     "output_type": "display_data"
    }
   ],
   "source": [
    "sns.barplot(data=df, x=df['Marital_Status'], y=df['MntWines'])"
   ]
  },
  {
   "cell_type": "markdown",
   "id": "d4903a02",
   "metadata": {},
   "source": [
    "#### Как можно заметить, больше всего на вино тратят вдовы, а одинокие люди пьют его реже всех"
   ]
  },
  {
   "cell_type": "markdown",
   "id": "4919a207",
   "metadata": {},
   "source": [
    "#### Теперь отобразим уровень дохода в зависимости от образования:"
   ]
  },
  {
   "cell_type": "code",
   "execution_count": 145,
   "id": "7e4c7c87",
   "metadata": {},
   "outputs": [
    {
     "data": {
      "text/plain": [
       "<AxesSubplot:xlabel='Education', ylabel='Income'>"
      ]
     },
     "execution_count": 145,
     "metadata": {},
     "output_type": "execute_result"
    },
    {
     "data": {
      "image/png": "[encoded data removed]",
      "text/plain": [
       "<Figure size 432x288 with 1 Axes>"
      ]
     },
     "metadata": {},
     "output_type": "display_data"
    }
   ],
   "source": [
    "sns.barplot(data=df, x=df['Education'], y=df['Income'])"
   ]
  },
  {
   "cell_type": "markdown",
   "id": "f47b748c",
   "metadata": {},
   "source": [
    "#### Можно сделать вывод о том, что образование играет роль в доходе. Люди с уровнем PhD зарабатывают больше всех. Уровень Basic имеет самый низкий доход. "
   ]
  },
  {
   "cell_type": "markdown",
   "id": "aa0b89fa",
   "metadata": {},
   "source": [
    "## Задание 7 (1 балл): немного исследований"
   ]
  },
  {
   "cell_type": "markdown",
   "id": "8a1a7c59",
   "metadata": {},
   "source": [
    "Попробуйте найти в данных какую-то классную интересную особенность. Может быть, рыбу едят только неженатые? Или самый большой заработок и потребление фруктов у людей без образования? Приведите все расчеты, и визуализации для обнаруженного факта. Он должен быть правда интересным и удивлять! Попробуйте описать, почему (как вам кажется) так получилось."
   ]
  },
  {
   "cell_type": "code",
   "execution_count": 149,
   "id": "4d84d27c",
   "metadata": {},
   "outputs": [
    {
     "data": {
      "text/html": [
       "<div>\n",
       "<style scoped>\n",
       "    .dataframe tbody tr th:only-of-type {\n",
       "        vertical-align: middle;\n",
       "    }\n",
       "\n",
       "    .dataframe tbody tr th {\n",
       "        vertical-align: top;\n",
       "    }\n",
       "\n",
       "    .dataframe thead th {\n",
       "        text-align: right;\n",
       "    }\n",
       "</style>\n",
       "<table border=\"1\" class=\"dataframe\">\n",
       "  <thead>\n",
       "    <tr style=\"text-align: right;\">\n",
       "      <th></th>\n",
       "      <th></th>\n",
       "      <th>MntFishProducts</th>\n",
       "      <th>MntWines</th>\n",
       "      <th>MntMeatProducts</th>\n",
       "    </tr>\n",
       "    <tr>\n",
       "      <th>Country</th>\n",
       "      <th>Education</th>\n",
       "      <th></th>\n",
       "      <th></th>\n",
       "      <th></th>\n",
       "    </tr>\n",
       "  </thead>\n",
       "  <tbody>\n",
       "    <tr>\n",
       "      <th rowspan=\"5\" valign=\"top\">AUS</th>\n",
       "      <th>2n Cycle</th>\n",
       "      <td>10.142857</td>\n",
       "      <td>18.285714</td>\n",
       "      <td>16.285714</td>\n",
       "    </tr>\n",
       "    <tr>\n",
       "      <th>Basic</th>\n",
       "      <td>16.000000</td>\n",
       "      <td>1.250000</td>\n",
       "      <td>10.000000</td>\n",
       "    </tr>\n",
       "    <tr>\n",
       "      <th>Graduation</th>\n",
       "      <td>12.698113</td>\n",
       "      <td>136.245283</td>\n",
       "      <td>47.169811</td>\n",
       "    </tr>\n",
       "    <tr>\n",
       "      <th>Master</th>\n",
       "      <td>18.052632</td>\n",
       "      <td>175.578947</td>\n",
       "      <td>73.473684</td>\n",
       "    </tr>\n",
       "    <tr>\n",
       "      <th>PhD</th>\n",
       "      <td>7.055556</td>\n",
       "      <td>99.277778</td>\n",
       "      <td>29.611111</td>\n",
       "    </tr>\n",
       "    <tr>\n",
       "      <th rowspan=\"5\" valign=\"top\">CA</th>\n",
       "      <th>2n Cycle</th>\n",
       "      <td>6.076923</td>\n",
       "      <td>37.230769</td>\n",
       "      <td>17.384615</td>\n",
       "    </tr>\n",
       "    <tr>\n",
       "      <th>Basic</th>\n",
       "      <td>10.571429</td>\n",
       "      <td>1.857143</td>\n",
       "      <td>5.857143</td>\n",
       "    </tr>\n",
       "    <tr>\n",
       "      <th>Graduation</th>\n",
       "      <td>9.644737</td>\n",
       "      <td>98.631579</td>\n",
       "      <td>34.644737</td>\n",
       "    </tr>\n",
       "    <tr>\n",
       "      <th>Master</th>\n",
       "      <td>8.344828</td>\n",
       "      <td>176.344828</td>\n",
       "      <td>51.551724</td>\n",
       "    </tr>\n",
       "    <tr>\n",
       "      <th>PhD</th>\n",
       "      <td>16.100000</td>\n",
       "      <td>245.066667</td>\n",
       "      <td>74.300000</td>\n",
       "    </tr>\n",
       "    <tr>\n",
       "      <th rowspan=\"5\" valign=\"top\">GER</th>\n",
       "      <th>2n Cycle</th>\n",
       "      <td>13.285714</td>\n",
       "      <td>39.500000</td>\n",
       "      <td>24.500000</td>\n",
       "    </tr>\n",
       "    <tr>\n",
       "      <th>Basic</th>\n",
       "      <td>9.500000</td>\n",
       "      <td>3.000000</td>\n",
       "      <td>8.000000</td>\n",
       "    </tr>\n",
       "    <tr>\n",
       "      <th>Graduation</th>\n",
       "      <td>8.818182</td>\n",
       "      <td>126.909091</td>\n",
       "      <td>52.818182</td>\n",
       "    </tr>\n",
       "    <tr>\n",
       "      <th>Master</th>\n",
       "      <td>7.615385</td>\n",
       "      <td>87.923077</td>\n",
       "      <td>40.615385</td>\n",
       "    </tr>\n",
       "    <tr>\n",
       "      <th>PhD</th>\n",
       "      <td>3.500000</td>\n",
       "      <td>293.500000</td>\n",
       "      <td>70.000000</td>\n",
       "    </tr>\n",
       "    <tr>\n",
       "      <th rowspan=\"5\" valign=\"top\">IND</th>\n",
       "      <th>2n Cycle</th>\n",
       "      <td>23.454545</td>\n",
       "      <td>76.636364</td>\n",
       "      <td>46.454545</td>\n",
       "    </tr>\n",
       "    <tr>\n",
       "      <th>Basic</th>\n",
       "      <td>16.750000</td>\n",
       "      <td>2.500000</td>\n",
       "      <td>9.000000</td>\n",
       "    </tr>\n",
       "    <tr>\n",
       "      <th>Graduation</th>\n",
       "      <td>11.576923</td>\n",
       "      <td>96.884615</td>\n",
       "      <td>37.865385</td>\n",
       "    </tr>\n",
       "    <tr>\n",
       "      <th>Master</th>\n",
       "      <td>4.750000</td>\n",
       "      <td>121.083333</td>\n",
       "      <td>46.250000</td>\n",
       "    </tr>\n",
       "    <tr>\n",
       "      <th>PhD</th>\n",
       "      <td>3.538462</td>\n",
       "      <td>194.384615</td>\n",
       "      <td>37.153846</td>\n",
       "    </tr>\n",
       "    <tr>\n",
       "      <th>ME</th>\n",
       "      <th>PhD</th>\n",
       "      <td>12.000000</td>\n",
       "      <td>789.000000</td>\n",
       "      <td>142.000000</td>\n",
       "    </tr>\n",
       "    <tr>\n",
       "      <th rowspan=\"5\" valign=\"top\">SA</th>\n",
       "      <th>2n Cycle</th>\n",
       "      <td>17.437500</td>\n",
       "      <td>112.875000</td>\n",
       "      <td>42.500000</td>\n",
       "    </tr>\n",
       "    <tr>\n",
       "      <th>Basic</th>\n",
       "      <td>10.500000</td>\n",
       "      <td>2.500000</td>\n",
       "      <td>6.333333</td>\n",
       "    </tr>\n",
       "    <tr>\n",
       "      <th>Graduation</th>\n",
       "      <td>11.400000</td>\n",
       "      <td>71.773333</td>\n",
       "      <td>39.720000</td>\n",
       "    </tr>\n",
       "    <tr>\n",
       "      <th>Master</th>\n",
       "      <td>10.500000</td>\n",
       "      <td>181.142857</td>\n",
       "      <td>58.500000</td>\n",
       "    </tr>\n",
       "    <tr>\n",
       "      <th>PhD</th>\n",
       "      <td>8.916667</td>\n",
       "      <td>171.645833</td>\n",
       "      <td>44.125000</td>\n",
       "    </tr>\n",
       "    <tr>\n",
       "      <th rowspan=\"5\" valign=\"top\">SP</th>\n",
       "      <th>2n Cycle</th>\n",
       "      <td>15.711864</td>\n",
       "      <td>39.694915</td>\n",
       "      <td>26.389831</td>\n",
       "    </tr>\n",
       "    <tr>\n",
       "      <th>Basic</th>\n",
       "      <td>10.423077</td>\n",
       "      <td>3.576923</td>\n",
       "      <td>8.269231</td>\n",
       "    </tr>\n",
       "    <tr>\n",
       "      <th>Graduation</th>\n",
       "      <td>12.620253</td>\n",
       "      <td>106.680380</td>\n",
       "      <td>49.452532</td>\n",
       "    </tr>\n",
       "    <tr>\n",
       "      <th>Master</th>\n",
       "      <td>9.813084</td>\n",
       "      <td>142.242991</td>\n",
       "      <td>56.242991</td>\n",
       "    </tr>\n",
       "    <tr>\n",
       "      <th>PhD</th>\n",
       "      <td>7.915584</td>\n",
       "      <td>179.493506</td>\n",
       "      <td>54.396104</td>\n",
       "    </tr>\n",
       "    <tr>\n",
       "      <th rowspan=\"5\" valign=\"top\">US</th>\n",
       "      <th>2n Cycle</th>\n",
       "      <td>12.750000</td>\n",
       "      <td>200.500000</td>\n",
       "      <td>47.000000</td>\n",
       "    </tr>\n",
       "    <tr>\n",
       "      <th>Basic</th>\n",
       "      <td>7.333333</td>\n",
       "      <td>4.666667</td>\n",
       "      <td>10.666667</td>\n",
       "    </tr>\n",
       "    <tr>\n",
       "      <th>Graduation</th>\n",
       "      <td>21.000000</td>\n",
       "      <td>146.228571</td>\n",
       "      <td>65.342857</td>\n",
       "    </tr>\n",
       "    <tr>\n",
       "      <th>Master</th>\n",
       "      <td>5.692308</td>\n",
       "      <td>142.076923</td>\n",
       "      <td>38.153846</td>\n",
       "    </tr>\n",
       "    <tr>\n",
       "      <th>PhD</th>\n",
       "      <td>18.333333</td>\n",
       "      <td>292.666667</td>\n",
       "      <td>80.111111</td>\n",
       "    </tr>\n",
       "  </tbody>\n",
       "</table>\n",
       "</div>"
      ],
      "text/plain": [
       "                    MntFishProducts    MntWines  MntMeatProducts\n",
       "Country Education                                               \n",
       "AUS     2n Cycle          10.142857   18.285714        16.285714\n",
       "        Basic             16.000000    1.250000        10.000000\n",
       "        Graduation        12.698113  136.245283        47.169811\n",
       "        Master            18.052632  175.578947        73.473684\n",
       "        PhD                7.055556   99.277778        29.611111\n",
       "CA      2n Cycle           6.076923   37.230769        17.384615\n",
       "        Basic             10.571429    1.857143         5.857143\n",
       "        Graduation         9.644737   98.631579        34.644737\n",
       "        Master             8.344828  176.344828        51.551724\n",
       "        PhD               16.100000  245.066667        74.300000\n",
       "GER     2n Cycle          13.285714   39.500000        24.500000\n",
       "        Basic              9.500000    3.000000         8.000000\n",
       "        Graduation         8.818182  126.909091        52.818182\n",
       "        Master             7.615385   87.923077        40.615385\n",
       "        PhD                3.500000  293.500000        70.000000\n",
       "IND     2n Cycle          23.454545   76.636364        46.454545\n",
       "        Basic             16.750000    2.500000         9.000000\n",
       "        Graduation        11.576923   96.884615        37.865385\n",
       "        Master             4.750000  121.083333        46.250000\n",
       "        PhD                3.538462  194.384615        37.153846\n",
       "ME      PhD               12.000000  789.000000       142.000000\n",
       "SA      2n Cycle          17.437500  112.875000        42.500000\n",
       "        Basic             10.500000    2.500000         6.333333\n",
       "        Graduation        11.400000   71.773333        39.720000\n",
       "        Master            10.500000  181.142857        58.500000\n",
       "        PhD                8.916667  171.645833        44.125000\n",
       "SP      2n Cycle          15.711864   39.694915        26.389831\n",
       "        Basic             10.423077    3.576923         8.269231\n",
       "        Graduation        12.620253  106.680380        49.452532\n",
       "        Master             9.813084  142.242991        56.242991\n",
       "        PhD                7.915584  179.493506        54.396104\n",
       "US      2n Cycle          12.750000  200.500000        47.000000\n",
       "        Basic              7.333333    4.666667        10.666667\n",
       "        Graduation        21.000000  146.228571        65.342857\n",
       "        Master             5.692308  142.076923        38.153846\n",
       "        PhD               18.333333  292.666667        80.111111"
      ]
     },
     "execution_count": 149,
     "metadata": {},
     "output_type": "execute_result"
    }
   ],
   "source": [
    "df.groupby(['Country','Education']).aggregate({'MntFishProducts': 'mean','MntWines': 'mean','MntMeatProducts': 'mean'})"
   ]
  },
  {
   "cell_type": "markdown",
   "id": "84822c54",
   "metadata": {},
   "source": [
    "## Исходя из выше представленных данных, можно сделать вывод о том, что чаще всего люди выбирают к вину не рыбу!, а мясо. "
   ]
  },
  {
   "cell_type": "code",
   "execution_count": 151,
   "id": "b0764c01",
   "metadata": {},
   "outputs": [
    {
     "data": {
      "text/html": [
       "<div>\n",
       "<style scoped>\n",
       "    .dataframe tbody tr th:only-of-type {\n",
       "        vertical-align: middle;\n",
       "    }\n",
       "\n",
       "    .dataframe tbody tr th {\n",
       "        vertical-align: top;\n",
       "    }\n",
       "\n",
       "    .dataframe thead th {\n",
       "        text-align: right;\n",
       "    }\n",
       "</style>\n",
       "<table border=\"1\" class=\"dataframe\">\n",
       "  <thead>\n",
       "    <tr style=\"text-align: right;\">\n",
       "      <th></th>\n",
       "      <th></th>\n",
       "      <th>MntGoldProds</th>\n",
       "      <th>MntWines</th>\n",
       "      <th>MntMeatProducts</th>\n",
       "    </tr>\n",
       "    <tr>\n",
       "      <th>Country</th>\n",
       "      <th>Marital_Status</th>\n",
       "      <th></th>\n",
       "      <th></th>\n",
       "      <th></th>\n",
       "    </tr>\n",
       "  </thead>\n",
       "  <tbody>\n",
       "    <tr>\n",
       "      <th rowspan=\"5\" valign=\"top\">AUS</th>\n",
       "      <th>Divorced</th>\n",
       "      <td>21.666667</td>\n",
       "      <td>197.500000</td>\n",
       "      <td>63.833333</td>\n",
       "    </tr>\n",
       "    <tr>\n",
       "      <th>Married</th>\n",
       "      <td>25.184211</td>\n",
       "      <td>148.342105</td>\n",
       "      <td>50.789474</td>\n",
       "    </tr>\n",
       "    <tr>\n",
       "      <th>Single</th>\n",
       "      <td>29.111111</td>\n",
       "      <td>88.222222</td>\n",
       "      <td>33.444444</td>\n",
       "    </tr>\n",
       "    <tr>\n",
       "      <th>Together</th>\n",
       "      <td>19.068966</td>\n",
       "      <td>70.103448</td>\n",
       "      <td>37.310345</td>\n",
       "    </tr>\n",
       "    <tr>\n",
       "      <th>Widow</th>\n",
       "      <td>13.750000</td>\n",
       "      <td>212.250000</td>\n",
       "      <td>50.750000</td>\n",
       "    </tr>\n",
       "    <tr>\n",
       "      <th rowspan=\"6\" valign=\"top\">CA</th>\n",
       "      <th>Alone</th>\n",
       "      <td>20.000000</td>\n",
       "      <td>10.000000</td>\n",
       "      <td>16.000000</td>\n",
       "    </tr>\n",
       "    <tr>\n",
       "      <th>Divorced</th>\n",
       "      <td>14.684211</td>\n",
       "      <td>106.473684</td>\n",
       "      <td>35.157895</td>\n",
       "    </tr>\n",
       "    <tr>\n",
       "      <th>Married</th>\n",
       "      <td>19.466667</td>\n",
       "      <td>151.850000</td>\n",
       "      <td>48.816667</td>\n",
       "    </tr>\n",
       "    <tr>\n",
       "      <th>Single</th>\n",
       "      <td>18.156250</td>\n",
       "      <td>97.968750</td>\n",
       "      <td>31.250000</td>\n",
       "    </tr>\n",
       "    <tr>\n",
       "      <th>Together</th>\n",
       "      <td>21.684211</td>\n",
       "      <td>140.394737</td>\n",
       "      <td>49.052632</td>\n",
       "    </tr>\n",
       "    <tr>\n",
       "      <th>Widow</th>\n",
       "      <td>23.000000</td>\n",
       "      <td>208.750000</td>\n",
       "      <td>32.750000</td>\n",
       "    </tr>\n",
       "    <tr>\n",
       "      <th rowspan=\"5\" valign=\"top\">GER</th>\n",
       "      <th>Divorced</th>\n",
       "      <td>29.400000</td>\n",
       "      <td>59.200000</td>\n",
       "      <td>54.000000</td>\n",
       "    </tr>\n",
       "    <tr>\n",
       "      <th>Married</th>\n",
       "      <td>24.358974</td>\n",
       "      <td>121.820513</td>\n",
       "      <td>35.384615</td>\n",
       "    </tr>\n",
       "    <tr>\n",
       "      <th>Single</th>\n",
       "      <td>14.666667</td>\n",
       "      <td>75.777778</td>\n",
       "      <td>43.777778</td>\n",
       "    </tr>\n",
       "    <tr>\n",
       "      <th>Together</th>\n",
       "      <td>24.235294</td>\n",
       "      <td>141.294118</td>\n",
       "      <td>59.235294</td>\n",
       "    </tr>\n",
       "    <tr>\n",
       "      <th>Widow</th>\n",
       "      <td>69.500000</td>\n",
       "      <td>347.000000</td>\n",
       "      <td>139.500000</td>\n",
       "    </tr>\n",
       "    <tr>\n",
       "      <th rowspan=\"5\" valign=\"top\">IND</th>\n",
       "      <th>Divorced</th>\n",
       "      <td>18.833333</td>\n",
       "      <td>274.833333</td>\n",
       "      <td>55.833333</td>\n",
       "    </tr>\n",
       "    <tr>\n",
       "      <th>Married</th>\n",
       "      <td>16.656250</td>\n",
       "      <td>106.875000</td>\n",
       "      <td>27.593750</td>\n",
       "    </tr>\n",
       "    <tr>\n",
       "      <th>Single</th>\n",
       "      <td>33.560000</td>\n",
       "      <td>110.040000</td>\n",
       "      <td>52.040000</td>\n",
       "    </tr>\n",
       "    <tr>\n",
       "      <th>Together</th>\n",
       "      <td>22.678571</td>\n",
       "      <td>62.785714</td>\n",
       "      <td>30.571429</td>\n",
       "    </tr>\n",
       "    <tr>\n",
       "      <th>Widow</th>\n",
       "      <td>65.000000</td>\n",
       "      <td>293.000000</td>\n",
       "      <td>179.000000</td>\n",
       "    </tr>\n",
       "    <tr>\n",
       "      <th>ME</th>\n",
       "      <th>Single</th>\n",
       "      <td>38.000000</td>\n",
       "      <td>789.000000</td>\n",
       "      <td>142.000000</td>\n",
       "    </tr>\n",
       "    <tr>\n",
       "      <th rowspan=\"5\" valign=\"top\">SA</th>\n",
       "      <th>Divorced</th>\n",
       "      <td>26.217391</td>\n",
       "      <td>180.043478</td>\n",
       "      <td>47.130435</td>\n",
       "    </tr>\n",
       "    <tr>\n",
       "      <th>Married</th>\n",
       "      <td>16.901639</td>\n",
       "      <td>125.491803</td>\n",
       "      <td>37.229508</td>\n",
       "    </tr>\n",
       "    <tr>\n",
       "      <th>Single</th>\n",
       "      <td>19.971429</td>\n",
       "      <td>110.971429</td>\n",
       "      <td>49.342857</td>\n",
       "    </tr>\n",
       "    <tr>\n",
       "      <th>Together</th>\n",
       "      <td>20.016667</td>\n",
       "      <td>113.833333</td>\n",
       "      <td>50.200000</td>\n",
       "    </tr>\n",
       "    <tr>\n",
       "      <th>Widow</th>\n",
       "      <td>25.125000</td>\n",
       "      <td>67.625000</td>\n",
       "      <td>22.250000</td>\n",
       "    </tr>\n",
       "    <tr>\n",
       "      <th rowspan=\"5\" valign=\"top\">SP</th>\n",
       "      <th>Divorced</th>\n",
       "      <td>17.081967</td>\n",
       "      <td>116.868852</td>\n",
       "      <td>41.360656</td>\n",
       "    </tr>\n",
       "    <tr>\n",
       "      <th>Married</th>\n",
       "      <td>20.611111</td>\n",
       "      <td>128.711111</td>\n",
       "      <td>47.288889</td>\n",
       "    </tr>\n",
       "    <tr>\n",
       "      <th>Single</th>\n",
       "      <td>19.657718</td>\n",
       "      <td>93.228188</td>\n",
       "      <td>43.738255</td>\n",
       "    </tr>\n",
       "    <tr>\n",
       "      <th>Together</th>\n",
       "      <td>22.098765</td>\n",
       "      <td>127.716049</td>\n",
       "      <td>55.172840</td>\n",
       "    </tr>\n",
       "    <tr>\n",
       "      <th>Widow</th>\n",
       "      <td>20.950000</td>\n",
       "      <td>127.300000</td>\n",
       "      <td>52.400000</td>\n",
       "    </tr>\n",
       "    <tr>\n",
       "      <th rowspan=\"5\" valign=\"top\">US</th>\n",
       "      <th>Divorced</th>\n",
       "      <td>18.625000</td>\n",
       "      <td>325.625000</td>\n",
       "      <td>91.000000</td>\n",
       "    </tr>\n",
       "    <tr>\n",
       "      <th>Married</th>\n",
       "      <td>15.391304</td>\n",
       "      <td>102.260870</td>\n",
       "      <td>36.956522</td>\n",
       "    </tr>\n",
       "    <tr>\n",
       "      <th>Single</th>\n",
       "      <td>27.444444</td>\n",
       "      <td>143.888889</td>\n",
       "      <td>67.333333</td>\n",
       "    </tr>\n",
       "    <tr>\n",
       "      <th>Together</th>\n",
       "      <td>28.769231</td>\n",
       "      <td>175.000000</td>\n",
       "      <td>53.846154</td>\n",
       "    </tr>\n",
       "    <tr>\n",
       "      <th>Widow</th>\n",
       "      <td>33.000000</td>\n",
       "      <td>296.500000</td>\n",
       "      <td>117.000000</td>\n",
       "    </tr>\n",
       "  </tbody>\n",
       "</table>\n",
       "</div>"
      ],
      "text/plain": [
       "                        MntGoldProds    MntWines  MntMeatProducts\n",
       "Country Marital_Status                                           \n",
       "AUS     Divorced           21.666667  197.500000        63.833333\n",
       "        Married            25.184211  148.342105        50.789474\n",
       "        Single             29.111111   88.222222        33.444444\n",
       "        Together           19.068966   70.103448        37.310345\n",
       "        Widow              13.750000  212.250000        50.750000\n",
       "CA      Alone              20.000000   10.000000        16.000000\n",
       "        Divorced           14.684211  106.473684        35.157895\n",
       "        Married            19.466667  151.850000        48.816667\n",
       "        Single             18.156250   97.968750        31.250000\n",
       "        Together           21.684211  140.394737        49.052632\n",
       "        Widow              23.000000  208.750000        32.750000\n",
       "GER     Divorced           29.400000   59.200000        54.000000\n",
       "        Married            24.358974  121.820513        35.384615\n",
       "        Single             14.666667   75.777778        43.777778\n",
       "        Together           24.235294  141.294118        59.235294\n",
       "        Widow              69.500000  347.000000       139.500000\n",
       "IND     Divorced           18.833333  274.833333        55.833333\n",
       "        Married            16.656250  106.875000        27.593750\n",
       "        Single             33.560000  110.040000        52.040000\n",
       "        Together           22.678571   62.785714        30.571429\n",
       "        Widow              65.000000  293.000000       179.000000\n",
       "ME      Single             38.000000  789.000000       142.000000\n",
       "SA      Divorced           26.217391  180.043478        47.130435\n",
       "        Married            16.901639  125.491803        37.229508\n",
       "        Single             19.971429  110.971429        49.342857\n",
       "        Together           20.016667  113.833333        50.200000\n",
       "        Widow              25.125000   67.625000        22.250000\n",
       "SP      Divorced           17.081967  116.868852        41.360656\n",
       "        Married            20.611111  128.711111        47.288889\n",
       "        Single             19.657718   93.228188        43.738255\n",
       "        Together           22.098765  127.716049        55.172840\n",
       "        Widow              20.950000  127.300000        52.400000\n",
       "US      Divorced           18.625000  325.625000        91.000000\n",
       "        Married            15.391304  102.260870        36.956522\n",
       "        Single             27.444444  143.888889        67.333333\n",
       "        Together           28.769231  175.000000        53.846154\n",
       "        Widow              33.000000  296.500000       117.000000"
      ]
     },
     "execution_count": 151,
     "metadata": {},
     "output_type": "execute_result"
    }
   ],
   "source": [
    "df.groupby(['Country','Marital_Status']).aggregate({'MntGoldProds': 'mean','MntWines': 'mean','MntMeatProducts': 'mean'})"
   ]
  },
  {
   "cell_type": "markdown",
   "id": "901c9796",
   "metadata": {},
   "source": [
    "## Можно сделать вывод о том, что в большинстве стран на роскошь больше всех тратит категория Widow. "
   ]
  },
  {
   "cell_type": "code",
   "execution_count": 155,
   "id": "6b65bcb6",
   "metadata": {},
   "outputs": [
    {
     "data": {
      "text/html": [
       "<div>\n",
       "<style scoped>\n",
       "    .dataframe tbody tr th:only-of-type {\n",
       "        vertical-align: middle;\n",
       "    }\n",
       "\n",
       "    .dataframe tbody tr th {\n",
       "        vertical-align: top;\n",
       "    }\n",
       "\n",
       "    .dataframe thead th {\n",
       "        text-align: right;\n",
       "    }\n",
       "</style>\n",
       "<table border=\"1\" class=\"dataframe\">\n",
       "  <thead>\n",
       "    <tr style=\"text-align: right;\">\n",
       "      <th></th>\n",
       "      <th>MntWines</th>\n",
       "    </tr>\n",
       "    <tr>\n",
       "      <th>Marital_Status</th>\n",
       "      <th></th>\n",
       "    </tr>\n",
       "  </thead>\n",
       "  <tbody>\n",
       "    <tr>\n",
       "      <th>Alone</th>\n",
       "      <td>10.000000</td>\n",
       "    </tr>\n",
       "    <tr>\n",
       "      <th>Divorced</th>\n",
       "      <td>150.843284</td>\n",
       "    </tr>\n",
       "    <tr>\n",
       "      <th>Married</th>\n",
       "      <td>129.403442</td>\n",
       "    </tr>\n",
       "    <tr>\n",
       "      <th>Single</th>\n",
       "      <td>102.125436</td>\n",
       "    </tr>\n",
       "    <tr>\n",
       "      <th>Together</th>\n",
       "      <td>119.086455</td>\n",
       "    </tr>\n",
       "    <tr>\n",
       "      <th>Widow</th>\n",
       "      <td>154.902439</td>\n",
       "    </tr>\n",
       "  </tbody>\n",
       "</table>\n",
       "</div>"
      ],
      "text/plain": [
       "                  MntWines\n",
       "Marital_Status            \n",
       "Alone            10.000000\n",
       "Divorced        150.843284\n",
       "Married         129.403442\n",
       "Single          102.125436\n",
       "Together        119.086455\n",
       "Widow           154.902439"
      ]
     },
     "execution_count": 155,
     "metadata": {},
     "output_type": "execute_result"
    }
   ],
   "source": [
    "df.groupby(['Marital_Status']).aggregate({'MntWines': 'mean'})"
   ]
  },
  {
   "cell_type": "markdown",
   "id": "ad08413f",
   "metadata": {},
   "source": [
    "## Тут все очевидно)\n",
    "\n",
    "### Одинокие почти не пьют вино!"
   ]
  }
 ],
 "metadata": {
  "kernelspec": {
   "display_name": "Python 3 (ipykernel)",
   "language": "python",
   "name": "python3"
  },
  "language_info": {
   "codemirror_mode": {
    "name": "ipython",
    "version": 3
   },
   "file_extension": ".py",
   "mimetype": "text/x-python",
   "name": "python",
   "nbconvert_exporter": "python",
   "pygments_lexer": "ipython3",
   "version": "3.9.7"
  }
 },
 "nbformat": 4,
 "nbformat_minor": 5
}
